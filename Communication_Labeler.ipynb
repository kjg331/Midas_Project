{
 "cells": [
  {
   "cell_type": "code",
   "execution_count": 552,
   "id": "8b70ce89",
   "metadata": {
    "collapsed": true,
    "jupyter": {
     "outputs_hidden": true
    },
    "tags": []
   },
   "outputs": [
    {
     "name": "stdout",
     "output_type": "stream",
     "text": [
      "Collecting lightgbm\n",
      "  Downloading lightgbm-3.2.1-py3-none-win_amd64.whl (1.0 MB)\n",
      "Requirement already satisfied: scipy in c:\\users\\midashrm\\anaconda3\\lib\\site-packages (from lightgbm) (1.6.2)\n",
      "Requirement already satisfied: scikit-learn!=0.22.0 in c:\\users\\midashrm\\anaconda3\\lib\\site-packages (from lightgbm) (0.24.1)\n",
      "Requirement already satisfied: wheel in c:\\users\\midashrm\\anaconda3\\lib\\site-packages (from lightgbm) (0.36.2)\n",
      "Requirement already satisfied: numpy in c:\\users\\midashrm\\anaconda3\\lib\\site-packages (from lightgbm) (1.20.1)\n",
      "Requirement already satisfied: threadpoolctl>=2.0.0 in c:\\users\\midashrm\\anaconda3\\lib\\site-packages (from scikit-learn!=0.22.0->lightgbm) (2.1.0)\n",
      "Requirement already satisfied: joblib>=0.11 in c:\\users\\midashrm\\anaconda3\\lib\\site-packages (from scikit-learn!=0.22.0->lightgbm) (1.0.1)\n",
      "Installing collected packages: lightgbm\n",
      "Successfully installed lightgbm-3.2.1\n"
     ]
    },
    {
     "name": "stderr",
     "output_type": "stream",
     "text": [
      "WARNING: Ignoring invalid distribution -pype1 (c:\\users\\midashrm\\anaconda3\\lib\\site-packages)\n",
      "WARNING: Ignoring invalid distribution -pype1 (c:\\users\\midashrm\\anaconda3\\lib\\site-packages)\n",
      "WARNING: Ignoring invalid distribution -pype1 (c:\\users\\midashrm\\anaconda3\\lib\\site-packages)\n",
      "WARNING: Ignoring invalid distribution -pype1 (c:\\users\\midashrm\\anaconda3\\lib\\site-packages)\n",
      "WARNING: Ignoring invalid distribution -pype1 (c:\\users\\midashrm\\anaconda3\\lib\\site-packages)\n",
      "WARNING: Ignoring invalid distribution -pype1 (c:\\users\\midashrm\\anaconda3\\lib\\site-packages)\n"
     ]
    },
    {
     "name": "stdout",
     "output_type": "stream",
     "text": [
      "Collecting catboost\n",
      "  Downloading catboost-0.26-cp38-none-win_amd64.whl (68.4 MB)\n",
      "Collecting graphviz\n",
      "  Downloading graphviz-0.17-py3-none-any.whl (18 kB)\n",
      "Collecting plotly\n",
      "  Downloading plotly-5.1.0-py2.py3-none-any.whl (20.6 MB)\n",
      "Requirement already satisfied: scipy in c:\\users\\midashrm\\anaconda3\\lib\\site-packages (from catboost) (1.6.2)\n",
      "Requirement already satisfied: six in c:\\users\\midashrm\\anaconda3\\lib\\site-packages (from catboost) (1.15.0)\n",
      "Requirement already satisfied: matplotlib in c:\\users\\midashrm\\anaconda3\\lib\\site-packages (from catboost) (3.3.4)\n",
      "Requirement already satisfied: pandas>=0.24.0 in c:\\users\\midashrm\\anaconda3\\lib\\site-packages (from catboost) (1.2.4)\n",
      "Requirement already satisfied: numpy>=1.16.0 in c:\\users\\midashrm\\anaconda3\\lib\\site-packages (from catboost) (1.20.1)\n",
      "Requirement already satisfied: python-dateutil>=2.7.3 in c:\\users\\midashrm\\anaconda3\\lib\\site-packages (from pandas>=0.24.0->catboost) (2.8.1)\n",
      "Requirement already satisfied: pytz>=2017.3 in c:\\users\\midashrm\\anaconda3\\lib\\site-packages (from pandas>=0.24.0->catboost) (2021.1)\n",
      "Requirement already satisfied: pyparsing!=2.0.4,!=2.1.2,!=2.1.6,>=2.0.3 in c:\\users\\midashrm\\anaconda3\\lib\\site-packages (from matplotlib->catboost) (2.4.7)\n",
      "Requirement already satisfied: pillow>=6.2.0 in c:\\users\\midashrm\\anaconda3\\lib\\site-packages (from matplotlib->catboost) (8.2.0)\n",
      "Requirement already satisfied: kiwisolver>=1.0.1 in c:\\users\\midashrm\\anaconda3\\lib\\site-packages (from matplotlib->catboost) (1.3.1)\n",
      "Requirement already satisfied: cycler>=0.10 in c:\\users\\midashrm\\anaconda3\\lib\\site-packages (from matplotlib->catboost) (0.10.0)\n",
      "Collecting tenacity>=6.2.0\n",
      "  Downloading tenacity-8.0.1-py3-none-any.whl (24 kB)\n",
      "Installing collected packages: tenacity, plotly, graphviz, catboost\n",
      "Successfully installed catboost-0.26 graphviz-0.17 plotly-5.1.0 tenacity-8.0.1\n"
     ]
    },
    {
     "name": "stderr",
     "output_type": "stream",
     "text": [
      "WARNING: Ignoring invalid distribution -pype1 (c:\\users\\midashrm\\anaconda3\\lib\\site-packages)\n",
      "WARNING: Ignoring invalid distribution -pype1 (c:\\users\\midashrm\\anaconda3\\lib\\site-packages)\n",
      "WARNING: Ignoring invalid distribution -pype1 (c:\\users\\midashrm\\anaconda3\\lib\\site-packages)\n",
      "WARNING: Ignoring invalid distribution -pype1 (c:\\users\\midashrm\\anaconda3\\lib\\site-packages)\n",
      "WARNING: Ignoring invalid distribution -pype1 (c:\\users\\midashrm\\anaconda3\\lib\\site-packages)\n",
      "WARNING: Ignoring invalid distribution -pype1 (c:\\users\\midashrm\\anaconda3\\lib\\site-packages)\n",
      "WARNING: Ignoring invalid distribution -pype1 (c:\\users\\midashrm\\anaconda3\\lib\\site-packages)\n",
      "WARNING: Ignoring invalid distribution -pype1 (c:\\users\\midashrm\\anaconda3\\lib\\site-packages)\n",
      "WARNING: Ignoring invalid distribution -pype1 (c:\\users\\midashrm\\anaconda3\\lib\\site-packages)\n"
     ]
    }
   ],
   "source": [
    "#!pip install --upgrade pip\n",
    "#!pip install jpype1==1.0.2\n",
    "#!pip install konlpy\n",
    "#!pip install pipeline\n",
    "#!pip install XGboost\n",
    "#!pip install lightgbm\n",
    "#!pip install catboost"
   ]
  },
  {
   "cell_type": "code",
   "execution_count": 1,
   "id": "5acf5af2",
   "metadata": {},
   "outputs": [],
   "source": [
    "import pandas as pd\n",
    "import numpy as np\n",
    "#시각화 라이브러리\n",
    "import matplotlib.pyplot as plt\n",
    "import seaborn as sns\n",
    "%matplotlib inline\n",
    "sns.set_style(\"whitegrid\")\n",
    "plt.style.use(\"fivethirtyeight\")\n",
    "\n",
    "# 한글 표시\n",
    "from konlpy.tag import Hannanum\n",
    "#hannanum = Hannanum()\n",
    "plt.rc(\"font\", family=\"Malgun Gothic\")\n",
    "plt.rc(\"axes\", unicode_minus = False)\n",
    "\n",
    "import sys\n",
    "import io\n",
    "import glob\n",
    "\n",
    "import re\n",
    "import pipeline\n",
    "import warnings\n",
    "warnings.filterwarnings(action='ignore')\n",
    "\n",
    "import time\n",
    "from datetime import datetime,timedelta"
   ]
  },
  {
   "cell_type": "code",
   "execution_count": 451,
   "id": "575bf78f",
   "metadata": {},
   "outputs": [],
   "source": [
    "# 전처리 함수\n",
    "\n",
    "def word_pos_extract(text):\n",
    "    text_pos = okt.pos(text, norm=True, stem=True, join=False)\n",
    "    check_list = [\"Verb\",\"Noun\",\"Adjective\", \"Foreign\", 'Adverb']\n",
    "    list = [c+\"/\"+tag for c,tag in text_pos if tag in check_list]\n",
    "    return list\n",
    "\n",
    "def preprocess_sentence_kr(w):\n",
    "  w = w.strip()\n",
    "  w = re.sub(r\"[^0-9가-힣a-zA-Z?.!,¿]+\", \" \", w) # \\n도 공백으로 대체해줌\n",
    "  w = w.strip()\n",
    "  return w\n",
    "\n",
    "def extract_kr(w):\n",
    "  w = w.strip()\n",
    "  w = re.sub(r\"[^가-힣]+\", \"\", w) # \\n도 공백으로 대체해줌\n",
    "  w = w.strip()\n",
    "  return w"
   ]
  },
  {
   "cell_type": "markdown",
   "id": "a29a7905-ee3f-42b5-82e9-38f875679de8",
   "metadata": {},
   "source": [
    "## 1. 불용어 정의"
   ]
  },
  {
   "cell_type": "code",
   "execution_count": 118,
   "id": "1f865956-5c78-436e-a47b-129cf886e83a",
   "metadata": {},
   "outputs": [],
   "source": [
    "words = open('Sentiment_Analysis/한국어불용어100 (2).txt', 'r', encoding='utf-8')"
   ]
  },
  {
   "cell_type": "code",
   "execution_count": 119,
   "id": "3bf03f67-df2c-4dd6-8a7c-a6fcc2738c5d",
   "metadata": {
    "tags": []
   },
   "outputs": [],
   "source": [
    "remove_list =[]\n",
    "lines = words.readlines()\n",
    "for line in lines:\n",
    "    line = line.strip()\n",
    "    remove_list.append(extract_kr(line))"
   ]
  },
  {
   "cell_type": "code",
   "execution_count": 120,
   "id": "73e5b54e-3318-4e2f-bb24-de0c74dae309",
   "metadata": {},
   "outputs": [],
   "source": [
    "add_list = [\"것\",'수','더','때','거','저','이','그','제','요','도','나','또','주','를','번','중','등','듯','안','의','분','알',\n",
    "              '후','예','개','차','은', '걸','음','로','및', '뭐', '오','전','게','보','건', '가','다','싶','네']\n",
    "\n",
    "for words in add_list:\n",
    "    remove_list.append(words)\n",
    "\n",
    "remove_list = pd.DataFrame({'단어':remove_list})\n",
    "remove_list.to_csv('Sentiment_Analysis/불용어모음.txt', index=False)"
   ]
  },
  {
   "cell_type": "code",
   "execution_count": 2,
   "id": "0545c92f-0bf5-4c0e-b898-dfd59d326f87",
   "metadata": {},
   "outputs": [],
   "source": [
    "remove_list = pd.read_csv('Sentiment_Analysis/불용어모음.txt')\n",
    "remove_list = remove_list['단어'].to_list()"
   ]
  },
  {
   "cell_type": "code",
   "execution_count": 4,
   "id": "f3b42743-90bd-47df-b52c-1bf275761a8a",
   "metadata": {
    "tags": []
   },
   "outputs": [
    {
     "data": {
      "text/plain": [
       "['이',\n",
       " '있',\n",
       " '하',\n",
       " '것',\n",
       " '들',\n",
       " '그',\n",
       " '되',\n",
       " '수',\n",
       " '이',\n",
       " '보',\n",
       " '않',\n",
       " '없',\n",
       " '나',\n",
       " '사람',\n",
       " '주',\n",
       " '아니',\n",
       " '등',\n",
       " '같',\n",
       " '우리',\n",
       " '때']"
      ]
     },
     "execution_count": 4,
     "metadata": {},
     "output_type": "execute_result"
    }
   ],
   "source": [
    "remove_list[:20]"
   ]
  },
  {
   "cell_type": "markdown",
   "id": "639ce8a5-32fb-43f7-a145-e0c86636de6d",
   "metadata": {},
   "source": [
    "## 2. Dataset 생성"
   ]
  },
  {
   "cell_type": "code",
   "execution_count": 131,
   "id": "def551a0",
   "metadata": {},
   "outputs": [],
   "source": [
    "data = pd.read_csv(\"C:/Users/midashrm/Documents/PythonWork/Sentiment_Analysis/성장전략서_1.csv\", encoding='cp949')\n",
    "data_1 = pd.read_csv('C:/Users/midashrm/Documents/PythonWork/Sentiment_Analysis/성장전략서_1q_ngram_leader_3grams_210629_3점완료_검수중.csv',encoding='cp949')\n",
    "data_2 = pd.read_csv(\"C:/Users/midashrm/Documents/PythonWork/Sentiment_Analysis/성장전략서_6월_ngram_leader_3grams_sum_20210723_1차완료.csv\", encoding='cp949')\n",
    "data_3 = pd.read_csv(\"C:/Users/midashrm/Documents/PythonWork/Sentiment_Analysis/성장전략서_unique.csv\", encoding='utf-8')\n"
   ]
  },
  {
   "cell_type": "code",
   "execution_count": 140,
   "id": "9e7f00cf",
   "metadata": {},
   "outputs": [],
   "source": [
    "df_1 = data_1.copy()\n",
    "df_2 = data_2.copy()\n",
    "df_3 = data_3.copy()"
   ]
  },
  {
   "cell_type": "code",
   "execution_count": 141,
   "id": "4899cda9",
   "metadata": {},
   "outputs": [
    {
     "data": {
      "text/html": [
       "<div>\n",
       "<style scoped>\n",
       "    .dataframe tbody tr th:only-of-type {\n",
       "        vertical-align: middle;\n",
       "    }\n",
       "\n",
       "    .dataframe tbody tr th {\n",
       "        vertical-align: top;\n",
       "    }\n",
       "\n",
       "    .dataframe thead th {\n",
       "        text-align: right;\n",
       "    }\n",
       "</style>\n",
       "<table border=\"1\" class=\"dataframe\">\n",
       "  <thead>\n",
       "    <tr style=\"text-align: right;\">\n",
       "      <th></th>\n",
       "      <th>문장</th>\n",
       "      <th>칭찬,인정</th>\n",
       "      <th>위로,공감</th>\n",
       "      <th>격려</th>\n",
       "      <th>태도코칭</th>\n",
       "      <th>전략코칭</th>\n",
       "      <th>업무</th>\n",
       "    </tr>\n",
       "  </thead>\n",
       "  <tbody>\n",
       "    <tr>\n",
       "      <th>0</th>\n",
       "      <td>6 개월 남짓</td>\n",
       "      <td>1</td>\n",
       "      <td>1</td>\n",
       "      <td>1</td>\n",
       "      <td>1.0</td>\n",
       "      <td>1.0</td>\n",
       "      <td>1.0</td>\n",
       "    </tr>\n",
       "    <tr>\n",
       "      <th>1</th>\n",
       "      <td>남짓 되는 기간</td>\n",
       "      <td>2</td>\n",
       "      <td>1</td>\n",
       "      <td>2</td>\n",
       "      <td>1.0</td>\n",
       "      <td>2.0</td>\n",
       "      <td>2.0</td>\n",
       "    </tr>\n",
       "    <tr>\n",
       "      <th>2</th>\n",
       "      <td>남짓 되는</td>\n",
       "      <td>2</td>\n",
       "      <td>1</td>\n",
       "      <td>2</td>\n",
       "      <td>1.0</td>\n",
       "      <td>2.0</td>\n",
       "      <td>2.0</td>\n",
       "    </tr>\n",
       "    <tr>\n",
       "      <th>3</th>\n",
       "      <td>되는 기간 동안</td>\n",
       "      <td>0</td>\n",
       "      <td>0</td>\n",
       "      <td>0</td>\n",
       "      <td>0.0</td>\n",
       "      <td>2.0</td>\n",
       "      <td>2.0</td>\n",
       "    </tr>\n",
       "    <tr>\n",
       "      <th>4</th>\n",
       "      <td>되는 기간</td>\n",
       "      <td>0</td>\n",
       "      <td>0</td>\n",
       "      <td>0</td>\n",
       "      <td>0.0</td>\n",
       "      <td>2.0</td>\n",
       "      <td>3.0</td>\n",
       "    </tr>\n",
       "    <tr>\n",
       "      <th>...</th>\n",
       "      <td>...</td>\n",
       "      <td>...</td>\n",
       "      <td>...</td>\n",
       "      <td>...</td>\n",
       "      <td>...</td>\n",
       "      <td>...</td>\n",
       "      <td>...</td>\n",
       "    </tr>\n",
       "    <tr>\n",
       "      <th>8838</th>\n",
       "      <td>내부 리뷰와 피드백이</td>\n",
       "      <td>0</td>\n",
       "      <td>0</td>\n",
       "      <td>0</td>\n",
       "      <td>0.0</td>\n",
       "      <td>1.0</td>\n",
       "      <td>0.0</td>\n",
       "    </tr>\n",
       "    <tr>\n",
       "      <th>8839</th>\n",
       "      <td>리뷰와 피드백이</td>\n",
       "      <td>0</td>\n",
       "      <td>0</td>\n",
       "      <td>0</td>\n",
       "      <td>0.0</td>\n",
       "      <td>1.0</td>\n",
       "      <td>0.0</td>\n",
       "    </tr>\n",
       "    <tr>\n",
       "      <th>8840</th>\n",
       "      <td>꼭 완료되기를 바랍니다</td>\n",
       "      <td>0</td>\n",
       "      <td>0</td>\n",
       "      <td>0</td>\n",
       "      <td>0.0</td>\n",
       "      <td>0.0</td>\n",
       "      <td>3.0</td>\n",
       "    </tr>\n",
       "    <tr>\n",
       "      <th>8841</th>\n",
       "      <td>완료되기를 바랍니다</td>\n",
       "      <td>0</td>\n",
       "      <td>0</td>\n",
       "      <td>0</td>\n",
       "      <td>0.0</td>\n",
       "      <td>0.0</td>\n",
       "      <td>3.0</td>\n",
       "    </tr>\n",
       "    <tr>\n",
       "      <th>8842</th>\n",
       "      <td>꼭 완료되기를</td>\n",
       "      <td>0</td>\n",
       "      <td>0</td>\n",
       "      <td>2</td>\n",
       "      <td>0.0</td>\n",
       "      <td>0.0</td>\n",
       "      <td>2.0</td>\n",
       "    </tr>\n",
       "  </tbody>\n",
       "</table>\n",
       "<p>8843 rows × 7 columns</p>\n",
       "</div>"
      ],
      "text/plain": [
       "                문장  칭찬,인정 위로,공감  격려  태도코칭  전략코칭   업무\n",
       "0          6 개월 남짓      1     1   1   1.0   1.0  1.0\n",
       "1         남짓 되는 기간      2     1   2   1.0   2.0  2.0\n",
       "2            남짓 되는      2     1   2   1.0   2.0  2.0\n",
       "3         되는 기간 동안      0     0   0   0.0   2.0  2.0\n",
       "4            되는 기간      0     0   0   0.0   2.0  3.0\n",
       "...            ...    ...   ...  ..   ...   ...  ...\n",
       "8838   내부 리뷰와 피드백이      0     0   0   0.0   1.0  0.0\n",
       "8839      리뷰와 피드백이      0     0   0   0.0   1.0  0.0\n",
       "8840  꼭 완료되기를 바랍니다      0     0   0   0.0   0.0  3.0\n",
       "8841    완료되기를 바랍니다      0     0   0   0.0   0.0  3.0\n",
       "8842       꼭 완료되기를      0     0   2   0.0   0.0  2.0\n",
       "\n",
       "[8843 rows x 7 columns]"
      ]
     },
     "execution_count": 141,
     "metadata": {},
     "output_type": "execute_result"
    }
   ],
   "source": [
    "df_1_words = df_1[df_1.columns.to_list()[-11:-1]]\n",
    "df_1_words = df_1_words[df_1_words['비고(Y/N)'] ==\"Y\"]\n",
    "df_1_words.reset_index(drop=True, inplace=True)\n",
    "df_1_words['word'] = df_1_words['word1']\n",
    "df_1_words['word1'].fillna('-',inplace=True)\n",
    "df_1_words['word2'].fillna('-',inplace=True)\n",
    "df_1_words['word3'].fillna('-',inplace=True)\n",
    "df_1_words['word'] = df_1_words['word1'] +\" \"+ df_1_words['word2'] +\" \"+ df_1_words['word3']\n",
    "df_1_words['word'] = df_1_words['word'].astype('str').apply(preprocess_sentence_kr)\n",
    "df_1_words.drop(['word1','word2','word3','비고(Y/N)'],axis=1,inplace=True)\n",
    "df_1_words.columns = ['칭찬,인정','위로,공감','격려','태도코칭','전략코칭','업무','문장']\n",
    "df_1_words = df_1_words[['문장','칭찬,인정','위로,공감','격려','태도코칭','전략코칭','업무']]\n",
    "df_1_words"
   ]
  },
  {
   "cell_type": "code",
   "execution_count": 142,
   "id": "2765d5e0",
   "metadata": {},
   "outputs": [
    {
     "data": {
      "text/html": [
       "<div>\n",
       "<style scoped>\n",
       "    .dataframe tbody tr th:only-of-type {\n",
       "        vertical-align: middle;\n",
       "    }\n",
       "\n",
       "    .dataframe tbody tr th {\n",
       "        vertical-align: top;\n",
       "    }\n",
       "\n",
       "    .dataframe thead th {\n",
       "        text-align: right;\n",
       "    }\n",
       "</style>\n",
       "<table border=\"1\" class=\"dataframe\">\n",
       "  <thead>\n",
       "    <tr style=\"text-align: right;\">\n",
       "      <th></th>\n",
       "      <th>문장</th>\n",
       "      <th>칭찬,인정</th>\n",
       "      <th>위로,공감</th>\n",
       "      <th>격려</th>\n",
       "      <th>태도코칭</th>\n",
       "      <th>전략코칭</th>\n",
       "      <th>업무</th>\n",
       "    </tr>\n",
       "  </thead>\n",
       "  <tbody>\n",
       "    <tr>\n",
       "      <th>0</th>\n",
       "      <td>잘 부탁 드립니다</td>\n",
       "      <td>0</td>\n",
       "      <td>0</td>\n",
       "      <td>1</td>\n",
       "      <td>0</td>\n",
       "      <td>0</td>\n",
       "      <td>0</td>\n",
       "    </tr>\n",
       "    <tr>\n",
       "      <th>1</th>\n",
       "      <td>네 감사합니다</td>\n",
       "      <td>1</td>\n",
       "      <td>0</td>\n",
       "      <td>0</td>\n",
       "      <td>0</td>\n",
       "      <td>0</td>\n",
       "      <td>0</td>\n",
       "    </tr>\n",
       "    <tr>\n",
       "      <th>2</th>\n",
       "      <td>정리 잘 부탁</td>\n",
       "      <td>0</td>\n",
       "      <td>0</td>\n",
       "      <td>1</td>\n",
       "      <td>0</td>\n",
       "      <td>0</td>\n",
       "      <td>1</td>\n",
       "    </tr>\n",
       "    <tr>\n",
       "      <th>3</th>\n",
       "      <td>잘 부탁 드립니다</td>\n",
       "      <td>0</td>\n",
       "      <td>0</td>\n",
       "      <td>1</td>\n",
       "      <td>0</td>\n",
       "      <td>0</td>\n",
       "      <td>1</td>\n",
       "    </tr>\n",
       "    <tr>\n",
       "      <th>4</th>\n",
       "      <td>인수인계 준비도</td>\n",
       "      <td>0</td>\n",
       "      <td>0</td>\n",
       "      <td>1</td>\n",
       "      <td>0</td>\n",
       "      <td>0</td>\n",
       "      <td>1</td>\n",
       "    </tr>\n",
       "    <tr>\n",
       "      <th>...</th>\n",
       "      <td>...</td>\n",
       "      <td>...</td>\n",
       "      <td>...</td>\n",
       "      <td>...</td>\n",
       "      <td>...</td>\n",
       "      <td>...</td>\n",
       "      <td>...</td>\n",
       "    </tr>\n",
       "    <tr>\n",
       "      <th>5157</th>\n",
       "      <td>도움만 받고 있습니다</td>\n",
       "      <td>3</td>\n",
       "      <td>0</td>\n",
       "      <td>0</td>\n",
       "      <td>0</td>\n",
       "      <td>0</td>\n",
       "      <td>0</td>\n",
       "    </tr>\n",
       "    <tr>\n",
       "      <th>5158</th>\n",
       "      <td>집중력을 가지고</td>\n",
       "      <td>0</td>\n",
       "      <td>0</td>\n",
       "      <td>2</td>\n",
       "      <td>2</td>\n",
       "      <td>0</td>\n",
       "      <td>0</td>\n",
       "    </tr>\n",
       "    <tr>\n",
       "      <th>5159</th>\n",
       "      <td>가장빠른 성장을 하고계신</td>\n",
       "      <td>3</td>\n",
       "      <td>0</td>\n",
       "      <td>2</td>\n",
       "      <td>0</td>\n",
       "      <td>0</td>\n",
       "      <td>0</td>\n",
       "    </tr>\n",
       "    <tr>\n",
       "      <th>5160</th>\n",
       "      <td>가장빠른 성장을</td>\n",
       "      <td>3</td>\n",
       "      <td>0</td>\n",
       "      <td>2</td>\n",
       "      <td>0</td>\n",
       "      <td>0</td>\n",
       "      <td>0</td>\n",
       "    </tr>\n",
       "    <tr>\n",
       "      <th>5161</th>\n",
       "      <td>성장을 하고계신</td>\n",
       "      <td>2</td>\n",
       "      <td>0</td>\n",
       "      <td>2</td>\n",
       "      <td>0</td>\n",
       "      <td>0</td>\n",
       "      <td>0</td>\n",
       "    </tr>\n",
       "  </tbody>\n",
       "</table>\n",
       "<p>5162 rows × 7 columns</p>\n",
       "</div>"
      ],
      "text/plain": [
       "                 문장  칭찬,인정  위로,공감  격려  태도코칭  전략코칭  업무\n",
       "0         잘 부탁 드립니다      0      0   1     0     0   0\n",
       "1           네 감사합니다      1      0   0     0     0   0\n",
       "2           정리 잘 부탁      0      0   1     0     0   1\n",
       "3         잘 부탁 드립니다      0      0   1     0     0   1\n",
       "4          인수인계 준비도      0      0   1     0     0   1\n",
       "...             ...    ...    ...  ..   ...   ...  ..\n",
       "5157    도움만 받고 있습니다      3      0   0     0     0   0\n",
       "5158       집중력을 가지고      0      0   2     2     0   0\n",
       "5159  가장빠른 성장을 하고계신      3      0   2     0     0   0\n",
       "5160       가장빠른 성장을      3      0   2     0     0   0\n",
       "5161       성장을 하고계신      2      0   2     0     0   0\n",
       "\n",
       "[5162 rows x 7 columns]"
      ]
     },
     "execution_count": 142,
     "metadata": {},
     "output_type": "execute_result"
    }
   ],
   "source": [
    "df_2_words =  df_2[df_2.columns.to_list()[-10:]]\n",
    "df_2_words = df_2_words[df_2_words['비고(Y/N)'] ==\"Y\"]\n",
    "df_2_words.reset_index(drop=True, inplace=True)\n",
    "df_2_words['word'] = df_2_words['word1_T']\n",
    "df_2_words['word1_T'].fillna('-',inplace=True)\n",
    "df_2_words['word2_T'].fillna('-',inplace=True)\n",
    "df_2_words['word3_T'].fillna('-',inplace=True)\n",
    "df_2_words['word'] = df_2_words['word1_T'] +\" \"+ df_2_words['word2_T'] +\" \"+ df_2_words['word3_T']\n",
    "df_2_words['word'] = df_2_words['word'].astype('str').apply(preprocess_sentence_kr)\n",
    "df_2_words.drop(['word1_T','word2_T','word3_T','비고(Y/N)'],axis=1,inplace=True)\n",
    "df_2_words.columns = ['칭찬,인정','위로,공감','격려','태도코칭','전략코칭','업무','문장']\n",
    "df_2_words = df_2_words[['문장','칭찬,인정','위로,공감','격려','태도코칭','전략코칭','업무']]\n",
    "df_2_words"
   ]
  },
  {
   "cell_type": "code",
   "execution_count": 143,
   "id": "f8aab3af",
   "metadata": {},
   "outputs": [
    {
     "data": {
      "text/html": [
       "<div>\n",
       "<style scoped>\n",
       "    .dataframe tbody tr th:only-of-type {\n",
       "        vertical-align: middle;\n",
       "    }\n",
       "\n",
       "    .dataframe tbody tr th {\n",
       "        vertical-align: top;\n",
       "    }\n",
       "\n",
       "    .dataframe thead th {\n",
       "        text-align: right;\n",
       "    }\n",
       "</style>\n",
       "<table border=\"1\" class=\"dataframe\">\n",
       "  <thead>\n",
       "    <tr style=\"text-align: right;\">\n",
       "      <th></th>\n",
       "      <th>문장</th>\n",
       "      <th>칭찬,인정</th>\n",
       "      <th>위로,공감</th>\n",
       "      <th>격려</th>\n",
       "      <th>태도코칭</th>\n",
       "      <th>전략코칭</th>\n",
       "      <th>업무</th>\n",
       "    </tr>\n",
       "  </thead>\n",
       "  <tbody>\n",
       "    <tr>\n",
       "      <th>0</th>\n",
       "      <td>희용 따지고보면 6개월 남짓 되는 기간 동안 콜드콜 영업을 중점적으로 했을텐데, 개...</td>\n",
       "      <td>2</td>\n",
       "      <td>0</td>\n",
       "      <td>1</td>\n",
       "      <td>1.0</td>\n",
       "      <td>0.0</td>\n",
       "      <td>0.0</td>\n",
       "    </tr>\n",
       "    <tr>\n",
       "      <th>1</th>\n",
       "      <td>희용 2월 대상 확보도 미리하고, MBM 기획, 방향 정도는 내가 말한 시간까지 2...</td>\n",
       "      <td>0</td>\n",
       "      <td>0</td>\n",
       "      <td>0</td>\n",
       "      <td>1.0</td>\n",
       "      <td>1.0</td>\n",
       "      <td>2.0</td>\n",
       "    </tr>\n",
       "    <tr>\n",
       "      <th>2</th>\n",
       "      <td>희용 현재 건축에서 가장 많은 매출을 부담하고 있는데, 실제 결과로도 잘 보여주고 ...</td>\n",
       "      <td>2</td>\n",
       "      <td>0</td>\n",
       "      <td>1</td>\n",
       "      <td>0.0</td>\n",
       "      <td>0.0</td>\n",
       "      <td>0.0</td>\n",
       "    </tr>\n",
       "    <tr>\n",
       "      <th>3</th>\n",
       "      <td>희용 성장발표회 때 용근님의 모습은 과정을 상세하게 설명하는 특징을 보입니다. 상세...</td>\n",
       "      <td>2</td>\n",
       "      <td>0</td>\n",
       "      <td>1</td>\n",
       "      <td>0.0</td>\n",
       "      <td>0.0</td>\n",
       "      <td>0.0</td>\n",
       "    </tr>\n",
       "    <tr>\n",
       "      <th>4</th>\n",
       "      <td>희용 에이원구조기술사사무소 ADS 건을 팀원들과 공유하려 해주시고 벌써부터 다른 구...</td>\n",
       "      <td>2</td>\n",
       "      <td>0</td>\n",
       "      <td>0</td>\n",
       "      <td>0.0</td>\n",
       "      <td>0.0</td>\n",
       "      <td>0.0</td>\n",
       "    </tr>\n",
       "    <tr>\n",
       "      <th>...</th>\n",
       "      <td>...</td>\n",
       "      <td>...</td>\n",
       "      <td>...</td>\n",
       "      <td>...</td>\n",
       "      <td>...</td>\n",
       "      <td>...</td>\n",
       "      <td>...</td>\n",
       "    </tr>\n",
       "    <tr>\n",
       "      <th>3624</th>\n",
       "      <td>사람과의 관계보다 일을 통해 얻는 의미와 가치에 집중하면 좋겠음. 나 역시 사람때문...</td>\n",
       "      <td>0</td>\n",
       "      <td>0</td>\n",
       "      <td>2</td>\n",
       "      <td>2.0</td>\n",
       "      <td>0.0</td>\n",
       "      <td>0.0</td>\n",
       "    </tr>\n",
       "    <tr>\n",
       "      <th>3625</th>\n",
       "      <td>4월말 IM의 내부 리뷰와 피드백이 꼭 완료되기를 바랍니다.</td>\n",
       "      <td>0</td>\n",
       "      <td>0</td>\n",
       "      <td>0</td>\n",
       "      <td>0.0</td>\n",
       "      <td>0.0</td>\n",
       "      <td>3.0</td>\n",
       "    </tr>\n",
       "    <tr>\n",
       "      <th>3626</th>\n",
       "      <td>누구보다도 이번 행사의 중요성과 책임을 느끼고 있습니다. 아직까지 영역별 담당자와 ...</td>\n",
       "      <td>2</td>\n",
       "      <td>0</td>\n",
       "      <td>2</td>\n",
       "      <td>0.0</td>\n",
       "      <td>0.0</td>\n",
       "      <td>0.0</td>\n",
       "    </tr>\n",
       "    <tr>\n",
       "      <th>3627</th>\n",
       "      <td>세상에서 가장 중요한 2개의 날이 있습니다. 하나는 태어난 날이고, 다른 하나는 태...</td>\n",
       "      <td>0</td>\n",
       "      <td>0</td>\n",
       "      <td>2</td>\n",
       "      <td>1.0</td>\n",
       "      <td>0.0</td>\n",
       "      <td>0.0</td>\n",
       "    </tr>\n",
       "    <tr>\n",
       "      <th>3628</th>\n",
       "      <td>용호님의 생각을 정리하고, 재구조화하는 것도 좋은 기회임, 생각의 차이를 통해 조금...</td>\n",
       "      <td>0</td>\n",
       "      <td>0</td>\n",
       "      <td>0</td>\n",
       "      <td>0.0</td>\n",
       "      <td>2.0</td>\n",
       "      <td>0.0</td>\n",
       "    </tr>\n",
       "  </tbody>\n",
       "</table>\n",
       "<p>3629 rows × 7 columns</p>\n",
       "</div>"
      ],
      "text/plain": [
       "                                                     문장  칭찬,인정  위로,공감  격려  \\\n",
       "0     희용 따지고보면 6개월 남짓 되는 기간 동안 콜드콜 영업을 중점적으로 했을텐데, 개...      2      0   1   \n",
       "1     희용 2월 대상 확보도 미리하고, MBM 기획, 방향 정도는 내가 말한 시간까지 2...      0      0   0   \n",
       "2     희용 현재 건축에서 가장 많은 매출을 부담하고 있는데, 실제 결과로도 잘 보여주고 ...      2      0   1   \n",
       "3     희용 성장발표회 때 용근님의 모습은 과정을 상세하게 설명하는 특징을 보입니다. 상세...      2      0   1   \n",
       "4     희용 에이원구조기술사사무소 ADS 건을 팀원들과 공유하려 해주시고 벌써부터 다른 구...      2      0   0   \n",
       "...                                                 ...    ...    ...  ..   \n",
       "3624  사람과의 관계보다 일을 통해 얻는 의미와 가치에 집중하면 좋겠음. 나 역시 사람때문...      0      0   2   \n",
       "3625                  4월말 IM의 내부 리뷰와 피드백이 꼭 완료되기를 바랍니다.      0      0   0   \n",
       "3626  누구보다도 이번 행사의 중요성과 책임을 느끼고 있습니다. 아직까지 영역별 담당자와 ...      2      0   2   \n",
       "3627  세상에서 가장 중요한 2개의 날이 있습니다. 하나는 태어난 날이고, 다른 하나는 태...      0      0   2   \n",
       "3628  용호님의 생각을 정리하고, 재구조화하는 것도 좋은 기회임, 생각의 차이를 통해 조금...      0      0   0   \n",
       "\n",
       "      태도코칭  전략코칭   업무  \n",
       "0      1.0   0.0  0.0  \n",
       "1      1.0   1.0  2.0  \n",
       "2      0.0   0.0  0.0  \n",
       "3      0.0   0.0  0.0  \n",
       "4      0.0   0.0  0.0  \n",
       "...    ...   ...  ...  \n",
       "3624   2.0   0.0  0.0  \n",
       "3625   0.0   0.0  3.0  \n",
       "3626   0.0   0.0  0.0  \n",
       "3627   1.0   0.0  0.0  \n",
       "3628   0.0   2.0  0.0  \n",
       "\n",
       "[3629 rows x 7 columns]"
      ]
     },
     "execution_count": 143,
     "metadata": {},
     "output_type": "execute_result"
    }
   ],
   "source": [
    "df_3.columns = ['문장','칭찬,인정','위로,공감','격려','태도코칭','전략코칭','업무']\n",
    "df_3"
   ]
  },
  {
   "cell_type": "code",
   "execution_count": 144,
   "id": "e8684f54",
   "metadata": {},
   "outputs": [],
   "source": [
    "concat = pd.concat([df_1_words,df_2_words,df_3])"
   ]
  },
  {
   "cell_type": "code",
   "execution_count": 145,
   "id": "6519f526",
   "metadata": {},
   "outputs": [],
   "source": [
    "# 데이터 전처리 함수 적용\n",
    "concat['문장'] = concat['문장'].astype(\"str\").apply(preprocess_sentence_kr)"
   ]
  },
  {
   "cell_type": "code",
   "execution_count": 146,
   "id": "1798a99a",
   "metadata": {},
   "outputs": [
    {
     "data": {
      "text/html": [
       "<div>\n",
       "<style scoped>\n",
       "    .dataframe tbody tr th:only-of-type {\n",
       "        vertical-align: middle;\n",
       "    }\n",
       "\n",
       "    .dataframe tbody tr th {\n",
       "        vertical-align: top;\n",
       "    }\n",
       "\n",
       "    .dataframe thead th {\n",
       "        text-align: right;\n",
       "    }\n",
       "</style>\n",
       "<table border=\"1\" class=\"dataframe\">\n",
       "  <thead>\n",
       "    <tr style=\"text-align: right;\">\n",
       "      <th></th>\n",
       "      <th>문장</th>\n",
       "      <th>칭찬,인정</th>\n",
       "      <th>위로,공감</th>\n",
       "      <th>격려</th>\n",
       "      <th>태도코칭</th>\n",
       "      <th>전략코칭</th>\n",
       "      <th>업무</th>\n",
       "    </tr>\n",
       "  </thead>\n",
       "  <tbody>\n",
       "    <tr>\n",
       "      <th>0</th>\n",
       "      <td>6 개월 남짓</td>\n",
       "      <td>1</td>\n",
       "      <td>1</td>\n",
       "      <td>1</td>\n",
       "      <td>1.0</td>\n",
       "      <td>1.0</td>\n",
       "      <td>1.0</td>\n",
       "    </tr>\n",
       "    <tr>\n",
       "      <th>1</th>\n",
       "      <td>남짓 되는 기간</td>\n",
       "      <td>2</td>\n",
       "      <td>1</td>\n",
       "      <td>2</td>\n",
       "      <td>1.0</td>\n",
       "      <td>2.0</td>\n",
       "      <td>2.0</td>\n",
       "    </tr>\n",
       "    <tr>\n",
       "      <th>2</th>\n",
       "      <td>남짓 되는</td>\n",
       "      <td>2</td>\n",
       "      <td>1</td>\n",
       "      <td>2</td>\n",
       "      <td>1.0</td>\n",
       "      <td>2.0</td>\n",
       "      <td>2.0</td>\n",
       "    </tr>\n",
       "    <tr>\n",
       "      <th>3</th>\n",
       "      <td>되는 기간 동안</td>\n",
       "      <td>0</td>\n",
       "      <td>0</td>\n",
       "      <td>0</td>\n",
       "      <td>0.0</td>\n",
       "      <td>2.0</td>\n",
       "      <td>2.0</td>\n",
       "    </tr>\n",
       "    <tr>\n",
       "      <th>4</th>\n",
       "      <td>되는 기간</td>\n",
       "      <td>0</td>\n",
       "      <td>0</td>\n",
       "      <td>0</td>\n",
       "      <td>0.0</td>\n",
       "      <td>2.0</td>\n",
       "      <td>3.0</td>\n",
       "    </tr>\n",
       "    <tr>\n",
       "      <th>...</th>\n",
       "      <td>...</td>\n",
       "      <td>...</td>\n",
       "      <td>...</td>\n",
       "      <td>...</td>\n",
       "      <td>...</td>\n",
       "      <td>...</td>\n",
       "      <td>...</td>\n",
       "    </tr>\n",
       "    <tr>\n",
       "      <th>17629</th>\n",
       "      <td>사람과의 관계보다 일을 통해 얻는 의미와 가치에 집중하면 좋겠음. 나 역시 사람때문...</td>\n",
       "      <td>0</td>\n",
       "      <td>0</td>\n",
       "      <td>2</td>\n",
       "      <td>2.0</td>\n",
       "      <td>0.0</td>\n",
       "      <td>0.0</td>\n",
       "    </tr>\n",
       "    <tr>\n",
       "      <th>17630</th>\n",
       "      <td>4월말 IM의 내부 리뷰와 피드백이 꼭 완료되기를 바랍니다.</td>\n",
       "      <td>0</td>\n",
       "      <td>0</td>\n",
       "      <td>0</td>\n",
       "      <td>0.0</td>\n",
       "      <td>0.0</td>\n",
       "      <td>3.0</td>\n",
       "    </tr>\n",
       "    <tr>\n",
       "      <th>17631</th>\n",
       "      <td>누구보다도 이번 행사의 중요성과 책임을 느끼고 있습니다. 아직까지 영역별 담당자와 ...</td>\n",
       "      <td>2</td>\n",
       "      <td>0</td>\n",
       "      <td>2</td>\n",
       "      <td>0.0</td>\n",
       "      <td>0.0</td>\n",
       "      <td>0.0</td>\n",
       "    </tr>\n",
       "    <tr>\n",
       "      <th>17632</th>\n",
       "      <td>세상에서 가장 중요한 2개의 날이 있습니다. 하나는 태어난 날이고, 다른 하나는 태...</td>\n",
       "      <td>0</td>\n",
       "      <td>0</td>\n",
       "      <td>2</td>\n",
       "      <td>1.0</td>\n",
       "      <td>0.0</td>\n",
       "      <td>0.0</td>\n",
       "    </tr>\n",
       "    <tr>\n",
       "      <th>17633</th>\n",
       "      <td>용호님의 생각을 정리하고, 재구조화하는 것도 좋은 기회임, 생각의 차이를 통해 조금...</td>\n",
       "      <td>0</td>\n",
       "      <td>0</td>\n",
       "      <td>0</td>\n",
       "      <td>0.0</td>\n",
       "      <td>2.0</td>\n",
       "      <td>0.0</td>\n",
       "    </tr>\n",
       "  </tbody>\n",
       "</table>\n",
       "<p>17634 rows × 7 columns</p>\n",
       "</div>"
      ],
      "text/plain": [
       "                                                      문장  칭찬,인정 위로,공감  격려  \\\n",
       "0                                                6 개월 남짓      1     1   1   \n",
       "1                                               남짓 되는 기간      2     1   2   \n",
       "2                                                  남짓 되는      2     1   2   \n",
       "3                                               되는 기간 동안      0     0   0   \n",
       "4                                                  되는 기간      0     0   0   \n",
       "...                                                  ...    ...   ...  ..   \n",
       "17629  사람과의 관계보다 일을 통해 얻는 의미와 가치에 집중하면 좋겠음. 나 역시 사람때문...      0     0   2   \n",
       "17630                  4월말 IM의 내부 리뷰와 피드백이 꼭 완료되기를 바랍니다.      0     0   0   \n",
       "17631  누구보다도 이번 행사의 중요성과 책임을 느끼고 있습니다. 아직까지 영역별 담당자와 ...      2     0   2   \n",
       "17632  세상에서 가장 중요한 2개의 날이 있습니다. 하나는 태어난 날이고, 다른 하나는 태...      0     0   2   \n",
       "17633  용호님의 생각을 정리하고, 재구조화하는 것도 좋은 기회임, 생각의 차이를 통해 조금...      0     0   0   \n",
       "\n",
       "      태도코칭 전략코칭   업무  \n",
       "0      1.0  1.0  1.0  \n",
       "1      1.0  2.0  2.0  \n",
       "2      1.0  2.0  2.0  \n",
       "3      0.0  2.0  2.0  \n",
       "4      0.0  2.0  3.0  \n",
       "...    ...  ...  ...  \n",
       "17629  2.0  0.0  0.0  \n",
       "17630  0.0  0.0  3.0  \n",
       "17631  0.0  0.0  0.0  \n",
       "17632  1.0  0.0  0.0  \n",
       "17633  0.0  2.0  0.0  \n",
       "\n",
       "[17634 rows x 7 columns]"
      ]
     },
     "execution_count": 146,
     "metadata": {},
     "output_type": "execute_result"
    }
   ],
   "source": [
    "# 최종 훈련데이터\n",
    "df"
   ]
  },
  {
   "cell_type": "code",
   "execution_count": 459,
   "id": "2dcc5644-c9ab-4274-ad46-4eabf065bc3d",
   "metadata": {},
   "outputs": [],
   "source": [
    "df.to_csv(\"C:/Users/midashrm/Documents/PythonWork/Sentiment_Analysis/성장전략서_words.csv\", encoding='utf-8',index=False)"
   ]
  },
  {
   "cell_type": "markdown",
   "id": "6619dcca-99ae-4289-b1b5-163cf94adebf",
   "metadata": {},
   "source": [
    "## 3. Data 불러오기 , 전처리 후 새로 저장"
   ]
  },
  {
   "cell_type": "code",
   "execution_count": 453,
   "id": "6d950942-c7ca-40d5-b652-fd8b9bd65cab",
   "metadata": {},
   "outputs": [
    {
     "name": "stdout",
     "output_type": "stream",
     "text": [
      "<class 'pandas.core.frame.DataFrame'>\n",
      "RangeIndex: 17634 entries, 0 to 17633\n",
      "Data columns (total 7 columns):\n",
      " #   Column  Non-Null Count  Dtype  \n",
      "---  ------  --------------  -----  \n",
      " 0   문장      17626 non-null  object \n",
      " 1   칭찬,인정   17634 non-null  int64  \n",
      " 2   위로,공감   17634 non-null  object \n",
      " 3   격려      17634 non-null  int64  \n",
      " 4   태도코칭    17634 non-null  float64\n",
      " 5   전략코칭    17634 non-null  float64\n",
      " 6   업무      17634 non-null  float64\n",
      "dtypes: float64(3), int64(2), object(2)\n",
      "memory usage: 964.5+ KB\n"
     ]
    }
   ],
   "source": [
    "data = pd.read_csv(\"C:/Users/midashrm/Documents/PythonWork/Sentiment_Analysis/성장전략서_words.csv\", encoding='utf-8')\n",
    "df = data.copy()\n",
    "df.info()\n",
    "# 열마다 데이터 갯수가 다름, 문장 포함 결측치행 삭제, 라벨링 결측치'0'으로 교체"
   ]
  },
  {
   "cell_type": "code",
   "execution_count": 454,
   "id": "9cf0ce4b",
   "metadata": {},
   "outputs": [],
   "source": [
    "df = df[df['문장'].notnull()]\n",
    "df['칭찬,인정'].fillna('0',inplace=True)\n",
    "df['위로,공감'].fillna('0',inplace=True)\n",
    "df['위로,공감'].replace(\" \",'0',inplace=True) # 해당 행에만 \" \"이 있어 0으로 대체\n",
    "df['격려'].fillna('0',inplace=True)\n",
    "df['태도코칭'].fillna('0',inplace=True)\n",
    "df['전략코칭'].fillna('0',inplace=True)\n",
    "df['업무'].fillna('0',inplace=True)\n",
    "df.reset_index(drop=True,inplace=True)"
   ]
  },
  {
   "cell_type": "code",
   "execution_count": 455,
   "id": "d47d163a",
   "metadata": {},
   "outputs": [],
   "source": [
    "df.to_csv(\"C:/Users/midashrm/Documents/PythonWork/Sentiment_Analysis/성장전략서_words.csv\", encoding='utf-8',index=False)\n",
    "df.to_csv(\"C:/Users/midashrm/Documents/PythonWork/Sentiment_Analysis/성장전략서_words_1.csv\", encoding='euc kr',index=False)"
   ]
  },
  {
   "cell_type": "markdown",
   "id": "e87583c4-6059-4ec0-86ac-1e086e368787",
   "metadata": {},
   "source": [
    "### 3-1. 문장 기본형으로 교체 후 벡터화(TF-IDF벡터화 이용)"
   ]
  },
  {
   "cell_type": "code",
   "execution_count": 151,
   "id": "a70cc4bd-6f76-4e4a-8a90-900925e3b5dd",
   "metadata": {},
   "outputs": [],
   "source": [
    "from konlpy.tag import Okt\n",
    "okt = Okt()\n",
    "from sklearn.feature_extraction.text import CountVectorizer, TfidfVectorizer\n",
    "from sklearn.feature_extraction.text import TfidfTransformer\n",
    "from sklearn.pipeline import Pipeline"
   ]
  },
  {
   "cell_type": "code",
   "execution_count": 154,
   "id": "6c956860-c847-445f-b2cc-19c402627829",
   "metadata": {},
   "outputs": [],
   "source": [
    "# 기본형 교체 함수\n",
    "\n",
    "def word_extract(text):\n",
    "    text = text.strip()\n",
    "    text = re.sub(r\"[^0-9가-힣a-zA-Z?.!,¿]+\", \" \", text) # \\n도 공백으로 대체해줌\n",
    "    text = text.strip()\n",
    "    text_pos = okt.pos(text, norm=True, stem=True, join=False)\n",
    "    check_list = [\"Verb\",\"Noun\",\"Adjective\",'Foreign','Adverb'] # 동사, 명사, 형용사, 부사, 외국어, 부사\n",
    "    list = [c for c,tag in text_pos if tag in check_list]\n",
    "    word = [i.split('/')[0] for i in list]\n",
    "    word = [x for x in word if x not in remove_list]\n",
    "    return word"
   ]
  },
  {
   "cell_type": "code",
   "execution_count": 112,
   "id": "677c45dd-6dcc-4a07-aa29-df5901446b3c",
   "metadata": {},
   "outputs": [
    {
     "data": {
      "text/plain": [
       "0                [개월, 남짓]\n",
       "1            [남짓, 되다, 기간]\n",
       "2                [남짓, 되다]\n",
       "3            [되다, 기간, 동안]\n",
       "4                [되다, 기간]\n",
       "5                [기간, 동안]\n",
       "6         [콜드, 콜, 영업, 중점]\n",
       "7             [콜드, 콜, 영업]\n",
       "8            [영업, 중점, 하다]\n",
       "9                [영업, 중점]\n",
       "10               [중점, 하다]\n",
       "11      [개선, 스스로, 파악, 하다]\n",
       "12              [개선, 스스로]\n",
       "13    [스스로, 파악, 하다, 나아가다]\n",
       "14          [스스로, 파악, 하다]\n",
       "15     [파악, 하다, 나아가다, 과정]\n",
       "16         [파악, 하다, 나아가다]\n",
       "17         [나아가다, 과정, 하다]\n",
       "18             [나아가다, 과정]\n",
       "19               [과정, 하다]\n",
       "Name: 문장, dtype: object"
      ]
     },
     "execution_count": 112,
     "metadata": {},
     "output_type": "execute_result"
    }
   ],
   "source": [
    "# 표준화 \n",
    "std_word = df['문장'].apply(word_extract)\n",
    "std_word[0:20]"
   ]
  },
  {
   "cell_type": "code",
   "execution_count": 158,
   "id": "998dcfb4-20f1-4770-ba85-f47d0d77218f",
   "metadata": {},
   "outputs": [],
   "source": [
    "tf_idf_vect = TfidfVectorizer(dtype=np.float32, tokenizer = lambda x:word_extract(x),ngram_range = (1, 2)) # 1그램 ~ 2그램으로 분리\n",
    "bow_vect = tf_idf_vect.fit_transform(df['문장'].tolist())"
   ]
  },
  {
   "cell_type": "code",
   "execution_count": 206,
   "id": "ff9df500-ffcf-41b9-a663-e077f790cf1d",
   "metadata": {},
   "outputs": [
    {
     "data": {
      "text/plain": [
       "(17626, 51352)"
      ]
     },
     "execution_count": 206,
     "metadata": {},
     "output_type": "execute_result"
    }
   ],
   "source": [
    "bow_vect.shape"
   ]
  },
  {
   "cell_type": "markdown",
   "id": "aa9ceafd-c62b-4a95-a252-ca79ac5d1290",
   "metadata": {},
   "source": [
    "17626 문장에서 51352 단어 그램이 만들어짐"
   ]
  },
  {
   "cell_type": "code",
   "execution_count": 115,
   "id": "29925adf-0428-4918-b121-68461c1ba400",
   "metadata": {},
   "outputs": [
    {
     "data": {
      "text/plain": [
       "array([[0., 0., 0., ..., 0., 0., 0.],\n",
       "       [0., 0., 0., ..., 0., 0., 0.],\n",
       "       [0., 0., 0., ..., 0., 0., 0.],\n",
       "       ...,\n",
       "       [0., 0., 0., ..., 0., 0., 0.],\n",
       "       [0., 0., 0., ..., 0., 0., 0.],\n",
       "       [0., 0., 0., ..., 0., 0., 0.]], dtype=float32)"
      ]
     },
     "execution_count": 115,
     "metadata": {},
     "output_type": "execute_result"
    }
   ],
   "source": [
    "bow_vect.toarray()"
   ]
  },
  {
   "cell_type": "code",
   "execution_count": 116,
   "id": "dfff8eb2-fad4-41ec-bc6a-d0dd551c24bb",
   "metadata": {},
   "outputs": [
    {
     "data": {
      "text/plain": [
       "['가가',\n",
       " '가가 명확하다',\n",
       " '가게',\n",
       " '가게 되다',\n",
       " '가격',\n",
       " '가격 고',\n",
       " '가격 정책',\n",
       " '가격 항목',\n",
       " '가격표',\n",
       " '가격표 소개',\n",
       " '가격표 작업',\n",
       " '가급적',\n",
       " '가급적 법카',\n",
       " '가급적 사전',\n",
       " '가급적 함께',\n",
       " '가기',\n",
       " '가기 위',\n",
       " '가까워지다',\n",
       " '가까워지다 자기',\n",
       " '가까이',\n",
       " '가까이 보다',\n",
       " '가까이 상황',\n",
       " '가까이 팀',\n",
       " '가까이 하다',\n",
       " '가까이 함께',\n",
       " '가깝다',\n",
       " '가깝다 이야기',\n",
       " '가깝다 질',\n",
       " '가끔',\n",
       " '가끔 기술',\n",
       " '가끔 깜짝',\n",
       " '가끔 나다',\n",
       " '가끔 날다',\n",
       " '가끔 너무',\n",
       " '가끔 듣다',\n",
       " '가끔 물어보다',\n",
       " '가끔 본인',\n",
       " '가끔 쓰시',\n",
       " '가끔 아침',\n",
       " '가끔 엄청']"
      ]
     },
     "execution_count": 116,
     "metadata": {},
     "output_type": "execute_result"
    }
   ],
   "source": [
    "# 단어 리스트\n",
    "word_list = tf_idf_vect.get_feature_names()\n",
    "count_list = bow_vect.toarray().sum(axis=0)\n",
    "word_list[0:40]"
   ]
  },
  {
   "cell_type": "code",
   "execution_count": 117,
   "id": "312efd51-be84-4069-9bb5-3c1ec6c8fe69",
   "metadata": {},
   "outputs": [
    {
     "name": "stdout",
     "output_type": "stream",
     "text": [
      "{2107: '개월', 8351: '남짓', 2109: '개월 남짓', 12268: '되다', 6241: '기간', 8352: '남짓 되다', 12324: '되다 기간', 1211...\n"
     ]
    }
   ],
   "source": [
    "invert_index_vectorizer = {v: k for k, v in tf_idf_vect.vocabulary_.items()}\n",
    "print(str(invert_index_vectorizer)[:100]+'...')"
   ]
  },
  {
   "cell_type": "code",
   "execution_count": 118,
   "id": "247d840a-8ec5-48f3-80a6-95417da559bf",
   "metadata": {},
   "outputs": [
    {
     "data": {
      "text/plain": [
       "[('가가', 0.1137306),\n",
       " ('가가 명확하다', 0.1137306),\n",
       " ('가게', 0.11771185),\n",
       " ('가게 되다', 0.11771185),\n",
       " ('가격', 0.4534798),\n",
       " ('가격 고', 0.23204492),\n",
       " ('가격 정책', 0.13623449),\n",
       " ('가격 항목', 0.11867195),\n",
       " ('가격표', 0.31342995),\n",
       " ('가격표 소개', 0.16077185),\n",
       " ('가격표 작업', 0.16578864),\n",
       " ('가급적', 0.4063912),\n",
       " ('가급적 법카', 0.12846828),\n",
       " ('가급적 사전', 0.124284856),\n",
       " ('가급적 함께', 0.18363404),\n",
       " ('가기', 0.16578864),\n",
       " ('가기 위', 0.16578864),\n",
       " ('가까워지다', 0.15839788),\n",
       " ('가까워지다 자기', 0.15839788),\n",
       " ('가까이', 0.77006245),\n",
       " ('가까이 보다', 0.22100522),\n",
       " ('가까이 상황', 0.21186118),\n",
       " ('가까이 팀', 0.08221641),\n",
       " ('가까이 하다', 0.15261419),\n",
       " ('가까이 함께', 0.19651781),\n",
       " ('가깝다', 0.63532084),\n",
       " ('가깝다 이야기', 0.03487133),\n",
       " ('가깝다 질', 0.61831015),\n",
       " ('가끔', 2.1367884),\n",
       " ('가끔 기술', 0.1803034),\n",
       " ('가끔 깜짝', 0.095008455),\n",
       " ('가끔 나다', 0.16652386),\n",
       " ('가끔 날다', 0.6356266),\n",
       " ('가끔 너무', 0.07435476),\n",
       " ('가끔 듣다', 0.30314344),\n",
       " ('가끔 물어보다', 0.329007),\n",
       " ('가끔 본인', 0.08466667),\n",
       " ('가끔 쓰시', 0.12846828),\n",
       " ('가끔 아침', 0.04846525),\n",
       " ('가끔 엄청', 0.082564674)]"
      ]
     },
     "execution_count": 118,
     "metadata": {},
     "output_type": "execute_result"
    }
   ],
   "source": [
    "# 단어 중요도\n",
    "word_count_dict = list(zip(word_list, count_list))\n",
    "word_count_dict[0:40]"
   ]
  },
  {
   "cell_type": "markdown",
   "id": "740978b9-07f5-4fdb-b525-802b22acab58",
   "metadata": {},
   "source": [
    "## 4. 최적 모델 선정"
   ]
  },
  {
   "cell_type": "code",
   "execution_count": 458,
   "id": "67988144-d918-44ba-a259-b61083600e77",
   "metadata": {},
   "outputs": [],
   "source": [
    "# 함수 목록\n",
    "\n",
    "def evaluate(model, X_train, X_test, y_train, y_test):\n",
    "    y_test_pred = model.predict(X_test)\n",
    "    y_train_pred = model.predict(X_train)\n",
    "    Train_accuracy = accuracy_score(y_train, y_train_pred)\n",
    "    Test_accuracy = accuracy_score(y_test, y_test_pred)\n",
    "    Test_F1_Score = f1_score(y_test, y_test_pred, average='weighted')\n",
    "    print('Train_accuracy: %.3f' % Train_accuracy)\n",
    "    print('Test_accuracy: %.3f' % Test_accuracy)\n",
    "    print('F1_Weighted_Score: %.3f' % Test_F1_Score)\n",
    "    \n",
    "def timer(start_time=None):\n",
    "    if not start_time:\n",
    "        start_time = datetime.now()\n",
    "        return start_time\n",
    "    elif start_time:\n",
    "        thour, temp_sec = divmod((datetime.now() - start_time).total_seconds(), 3600)\n",
    "        tmin, tsec = divmod(temp_sec, 60)\n",
    "        print('\\n Time taken: %i hours %i minutes and %s seconds.' % (thour, tmin, round(tsec, 2)))"
   ]
  },
  {
   "cell_type": "markdown",
   "id": "b984683c-25f6-4c96-b76e-6d733c7453f3",
   "metadata": {},
   "source": [
    "### 4-1. 데이터 정의 및 split 진행"
   ]
  },
  {
   "cell_type": "code",
   "execution_count": 273,
   "id": "67b9e20d-52e6-42d3-9208-d6458cb2dede",
   "metadata": {},
   "outputs": [],
   "source": [
    "feature = bow_vect\n",
    "\n",
    "# 각 라벨 int타입으로 종속변수로 지정\n",
    "y_칭찬_인정 = df['칭찬,인정'].astype('int64')\n",
    "y_위로_공감 = df['위로,공감'].astype('int64')\n",
    "y_격려 = df['격려'].astype('int64')\n",
    "y_태도코칭 = df['태도코칭'].astype('int64')\n",
    "y_전략코칭 = df['전략코칭'].astype('int64')\n",
    "y_업무 = df['업무'].astype('int64')\n",
    "\n",
    "model_list = [\"Logistic Regression\", \"SVM\", \"Naive-Bayes\", 'XGBoost','LightGBM'] # 정확도를 측정할 모델 리스트\n",
    "test_accuracy = []\n",
    "f1 = []\n",
    "train_accuracy = []\n",
    "runtime = []"
   ]
  },
  {
   "cell_type": "markdown",
   "id": "13301685-8e2b-4489-a507-999525864667",
   "metadata": {},
   "source": [
    "### 4-2. 각 라벨별 f1_score가 가장 높은 모델 찾기(기본형)\n",
    "* 라벨별 점수의 분포가 불균등(imbalanced) 하기 때문에 f1-score의 weighted averge를 주요 지표로 삼음"
   ]
  },
  {
   "cell_type": "code",
   "execution_count": 174,
   "id": "aebe562e-1bd1-4423-bf1b-e0da8964d7a6",
   "metadata": {},
   "outputs": [],
   "source": [
    "# 모델 불러오기\n",
    "from sklearn.linear_model import LogisticRegression\n",
    "from sklearn import svm\n",
    "from sklearn import naive_bayes\n",
    "from xgboost import XGBClassifier\n",
    "from lightgbm import LGBMClassifier\n",
    "from sklearn.metrics import accuracy_score, precision_score, recall_score, f1_score\n",
    "from sklearn.model_selection import train_test_split, StratifiedKFold, cross_val_score\n",
    "from sklearn.preprocessing import minmax_scale\n",
    "\n",
    "def Score_per_label(feature,y):\n",
    "    \n",
    "    X_train, X_test, y_train, y_test = train_test_split(feature, y, test_size = 0.3, random_state=42)\n",
    "    Test_Accuracy = []\n",
    "    F1_weighted_Score = []\n",
    "    runtime = []\n",
    "    model_list = [\"LogisticRegression\", \"SVM\",\"Naive-Bayes\", \"XGBoost\", \"LightGBM\"]\n",
    "    models = [LogisticRegression(),svm.SVC(kernel='linear'),naive_bayes.MultinomialNB(),XGBClassifier(eval_metric='mlogloss'),LGBMClassifier()]\n",
    "    \n",
    "    for model in models:\n",
    "        start_time = time.time() \n",
    "        model.fit(X_train, y_train)\n",
    "        \n",
    "        y_train_pred = model.predict(X_train)\n",
    "        y_test_pred = model.predict(X_test)\n",
    "        \n",
    "        f1_weighted = f1_score(y_test, y_test_pred, average='weighted')        \n",
    "        Test_accuracy = accuracy_score(y_test, y_test_pred)\n",
    "        \n",
    "        run_time = time.time() - start_time\n",
    "        \n",
    "        print(model,'->',\"Test_Accuracy:\",Test_accuracy,\"F1_weighted_Score:\",f1_weighted,\"runtime:\",run_time)\n",
    "        \n",
    "        F1_weighted_Score.append(round(f1_weighted,3))        \n",
    "        Test_Accuracy.append(round(Test_accuracy,3))\n",
    "        runtime.append(run_time)\n",
    "        \n",
    "    Score_y = pd.DataFrame({\"Test_Accuracy\":Test_Accuracy,\"F1_weighted_Score\": F1_weighted_Score, \"Runtime\": minmax_scale(runtime, axis=0) }, index=model_list)\n",
    "    Score_y['Runtime'] = round(Score_y['Runtime'],3)\n",
    "    return Score_y"
   ]
  },
  {
   "cell_type": "code",
   "execution_count": 175,
   "id": "b1757786-7f9d-42ea-b253-2f1325b7f18c",
   "metadata": {
    "jupyter": {
     "outputs_hidden": true
    },
    "scrolled": true,
    "tags": []
   },
   "outputs": [
    {
     "name": "stdout",
     "output_type": "stream",
     "text": [
      "LogisticRegression() -> Test_Accuracy: 0.7726928895612708 F1_weighted_Score: 0.725318752015282 runtime: 5.492062568664551\n",
      "SVC(kernel='linear') -> Test_Accuracy: 0.789712556732224 F1_weighted_Score: 0.754801167877517 runtime: 25.893784523010254\n",
      "MultinomialNB() -> Test_Accuracy: 0.7326021180030258 F1_weighted_Score: 0.6412147172913337 runtime: 0.015619993209838867\n",
      "XGBClassifier(base_score=0.5, booster='gbtree', colsample_bylevel=1,\n",
      "              colsample_bynode=1, colsample_bytree=1, eval_metric='mlogloss',\n",
      "              gamma=0, gpu_id=-1, importance_type='gain',\n",
      "              interaction_constraints='', learning_rate=0.300000012,\n",
      "              max_delta_step=0, max_depth=6, min_child_weight=1, missing=nan,\n",
      "              monotone_constraints='()', n_estimators=100, n_jobs=4,\n",
      "              num_parallel_tree=1, objective='multi:softprob', random_state=0,\n",
      "              reg_alpha=0, reg_lambda=1, scale_pos_weight=None, subsample=1,\n",
      "              tree_method='exact', validate_parameters=1, verbosity=None) -> Test_Accuracy: 0.7866868381240545 F1_weighted_Score: 0.755560491444942 runtime: 16.991682052612305\n",
      "LGBMClassifier() -> Test_Accuracy: 0.7806354009077155 F1_weighted_Score: 0.7523672562036586 runtime: 4.420564651489258\n",
      "LogisticRegression() -> Test_Accuracy: 0.8212934947049925 F1_weighted_Score: 0.7723076223903874 runtime: 4.949803590774536\n",
      "SVC(kernel='linear') -> Test_Accuracy: 0.8369894099848714 F1_weighted_Score: 0.8015806720043007 runtime: 20.976426124572754\n",
      "MultinomialNB() -> Test_Accuracy: 0.8018154311649016 F1_weighted_Score: 0.720363414415373 runtime: 0.01610732078552246\n",
      "XGBClassifier(base_score=0.5, booster='gbtree', colsample_bylevel=1,\n",
      "              colsample_bynode=1, colsample_bytree=1, eval_metric='mlogloss',\n",
      "              gamma=0, gpu_id=-1, importance_type='gain',\n",
      "              interaction_constraints='', learning_rate=0.300000012,\n",
      "              max_delta_step=0, max_depth=6, min_child_weight=1, missing=nan,\n",
      "              monotone_constraints='()', n_estimators=100, n_jobs=4,\n",
      "              num_parallel_tree=1, objective='multi:softprob', random_state=0,\n",
      "              reg_alpha=0, reg_lambda=1, scale_pos_weight=None, subsample=1,\n",
      "              tree_method='exact', validate_parameters=1, verbosity=None) -> Test_Accuracy: 0.8292360060514372 F1_weighted_Score: 0.7943165110331041 runtime: 15.371541023254395\n",
      "LGBMClassifier() -> Test_Accuracy: 0.8273449319213313 F1_weighted_Score: 0.7931885437370603 runtime: 3.9713504314422607\n",
      "LogisticRegression() -> Test_Accuracy: 0.6995083207261724 F1_weighted_Score: 0.635899757800316 runtime: 4.4252049922943115\n",
      "SVC(kernel='linear') -> Test_Accuracy: 0.7135022692889561 F1_weighted_Score: 0.6619977064727721 runtime: 30.35060214996338\n",
      "MultinomialNB() -> Test_Accuracy: 0.6626323751891074 F1_weighted_Score: 0.5396265904020365 runtime: 0.01561880111694336\n",
      "XGBClassifier(base_score=0.5, booster='gbtree', colsample_bylevel=1,\n",
      "              colsample_bynode=1, colsample_bytree=1, eval_metric='mlogloss',\n",
      "              gamma=0, gpu_id=-1, importance_type='gain',\n",
      "              interaction_constraints='', learning_rate=0.300000012,\n",
      "              max_delta_step=0, max_depth=6, min_child_weight=1, missing=nan,\n",
      "              monotone_constraints='()', n_estimators=100, n_jobs=4,\n",
      "              num_parallel_tree=1, objective='multi:softprob', random_state=0,\n",
      "              reg_alpha=0, reg_lambda=1, scale_pos_weight=None, subsample=1,\n",
      "              tree_method='exact', validate_parameters=1, verbosity=None) -> Test_Accuracy: 0.6928895612708018 F1_weighted_Score: 0.624769640967878 runtime: 16.999443292617798\n",
      "LGBMClassifier() -> Test_Accuracy: 0.6936459909228442 F1_weighted_Score: 0.6413041562614001 runtime: 4.78884482383728\n",
      "LogisticRegression() -> Test_Accuracy: 0.7925491679273827 F1_weighted_Score: 0.7170430302699975 runtime: 5.280423641204834\n",
      "SVC(kernel='linear') -> Test_Accuracy: 0.8048411497730711 F1_weighted_Score: 0.743867950438613 runtime: 26.047683715820312\n",
      "MultinomialNB() -> Test_Accuracy: 0.7829046898638427 F1_weighted_Score: 0.6876472718863496 runtime: 0.015628337860107422\n",
      "XGBClassifier(base_score=0.5, booster='gbtree', colsample_bylevel=1,\n",
      "              colsample_bynode=1, colsample_bytree=1, eval_metric='mlogloss',\n",
      "              gamma=0, gpu_id=-1, importance_type='gain',\n",
      "              interaction_constraints='', learning_rate=0.300000012,\n",
      "              max_delta_step=0, max_depth=6, min_child_weight=1, missing=nan,\n",
      "              monotone_constraints='()', n_estimators=100, n_jobs=4,\n",
      "              num_parallel_tree=1, objective='multi:softprob', random_state=0,\n",
      "              reg_alpha=0, reg_lambda=1, scale_pos_weight=None, subsample=1,\n",
      "              tree_method='exact', validate_parameters=1, verbosity=None) -> Test_Accuracy: 0.7916036308623298 F1_weighted_Score: 0.7191340774182072 runtime: 16.264760971069336\n",
      "LGBMClassifier() -> Test_Accuracy: 0.7927382753403933 F1_weighted_Score: 0.7332836678395303 runtime: 4.613269090652466\n",
      "LogisticRegression() -> Test_Accuracy: 0.6414523449319214 F1_weighted_Score: 0.5911296057676582 runtime: 6.257906436920166\n",
      "SVC(kernel='linear') -> Test_Accuracy: 0.6582829046898638 F1_weighted_Score: 0.626054675729378 runtime: 31.11645245552063\n",
      "MultinomialNB() -> Test_Accuracy: 0.597768532526475 F1_weighted_Score: 0.49340854412133617 runtime: 0.015655517578125\n",
      "XGBClassifier(base_score=0.5, booster='gbtree', colsample_bylevel=1,\n",
      "              colsample_bynode=1, colsample_bytree=1, eval_metric='mlogloss',\n",
      "              gamma=0, gpu_id=-1, importance_type='gain',\n",
      "              interaction_constraints='', learning_rate=0.300000012,\n",
      "              max_delta_step=0, max_depth=6, min_child_weight=1, missing=nan,\n",
      "              monotone_constraints='()', n_estimators=100, n_jobs=4,\n",
      "              num_parallel_tree=1, objective='multi:softprob', random_state=0,\n",
      "              reg_alpha=0, reg_lambda=1, scale_pos_weight=None, subsample=1,\n",
      "              tree_method='exact', validate_parameters=1, verbosity=None) -> Test_Accuracy: 0.6096822995461422 F1_weighted_Score: 0.548121563067325 runtime: 14.945432424545288\n",
      "LGBMClassifier() -> Test_Accuracy: 0.6206505295007564 F1_weighted_Score: 0.5798109466367861 runtime: 4.027643203735352\n",
      "LogisticRegression() -> Test_Accuracy: 0.8054084720121029 F1_weighted_Score: 0.7361391260578133 runtime: 4.378569602966309\n",
      "SVC(kernel='linear') -> Test_Accuracy: 0.8163767019667171 F1_weighted_Score: 0.7614036146229415 runtime: 23.03285527229309\n",
      "MultinomialNB() -> Test_Accuracy: 0.7976550680786687 F1_weighted_Score: 0.7078706242701083 runtime: 0.03123760223388672\n",
      "XGBClassifier(base_score=0.5, booster='gbtree', colsample_bylevel=1,\n",
      "              colsample_bynode=1, colsample_bytree=1, eval_metric='mlogloss',\n",
      "              gamma=0, gpu_id=-1, importance_type='gain',\n",
      "              interaction_constraints='', learning_rate=0.300000012,\n",
      "              max_delta_step=0, max_depth=6, min_child_weight=1, missing=nan,\n",
      "              monotone_constraints='()', n_estimators=100, n_jobs=4,\n",
      "              num_parallel_tree=1, objective='multi:softprob', random_state=0,\n",
      "              reg_alpha=0, reg_lambda=1, scale_pos_weight=None, subsample=1,\n",
      "              tree_method='exact', validate_parameters=1, verbosity=None) -> Test_Accuracy: 0.8088124054462935 F1_weighted_Score: 0.7553171023067058 runtime: 15.44614863395691\n",
      "LGBMClassifier() -> Test_Accuracy: 0.8074886535552194 F1_weighted_Score: 0.7614705165511443 runtime: 4.434754848480225\n"
     ]
    }
   ],
   "source": [
    "y_칭찬_인정_score = Score_per_label(bow_vect,y_칭찬_인정)\n",
    "y_위로_공감_score = Score_per_label(bow_vect,y_위로_공감)\n",
    "y_격려_score = Score_per_label(bow_vect,y_격려)\n",
    "y_태도코칭_score = Score_per_label(bow_vect,y_태도코칭)\n",
    "y_전략코칭_score = Score_per_label(bow_vect,y_전략코칭)\n",
    "y_업무_score = Score_per_label(bow_vect,y_업무)"
   ]
  },
  {
   "cell_type": "code",
   "execution_count": 176,
   "id": "086e3e7d-f2c8-4e97-8def-2db1d36d62a8",
   "metadata": {},
   "outputs": [
    {
     "data": {
      "image/png": "[encoded data removed]",
      "text/plain": [
       "<Figure size 2016x864 with 6 Axes>"
      ]
     },
     "metadata": {},
     "output_type": "display_data"
    }
   ],
   "source": [
    "parameters = {'xtick.labelsize': 12, 'ytick.labelsize': 10, 'legend.fontsize': 10}\n",
    "plt.rcParams.update(parameters)\n",
    " \n",
    "f,ax=plt.subplots(2,3,figsize=(28,12))\n",
    "\n",
    "fig = y_칭찬_인정_score.sort_values(by='F1_weighted_Score',ascending=False).plot(kind='bar', rot=0,ylim = [0,1], ax=ax[0,0],color=['royalblue','orangered','darkgrey'])\n",
    "ax[0,0].set_yticks(np.arange(0,1.1,0.1))\n",
    "ax[0,0].set_title('칭찬_인정 예측 정확도',fontsize=14)\n",
    "\n",
    "fig = y_위로_공감_score.sort_values(by='F1_weighted_Score',ascending=False).plot(kind='bar', rot=0, ylim = [0,1], ax=ax[0,1],color=['royalblue','orangered','darkgrey'])   \n",
    "ax[0,1].set_yticks(np.arange(0,1.1,0.1))\n",
    "ax[0,1].set_title('위로_공감 예측 정확도',fontsize=14)\n",
    "\n",
    "fig = y_격려_score.sort_values(by='F1_weighted_Score',ascending=False).plot(kind='bar', rot=0, ylim = [0,1], ax=ax[0,2],color=['royalblue','orangered','darkgrey'])\n",
    "ax[0,2].set_yticks(np.arange(0,1.1,0.1))\n",
    "ax[0,2].set_title('격려 예측 정확도',fontsize=14)\n",
    "\n",
    "fig = y_태도코칭_score.sort_values(by='F1_weighted_Score',ascending=False).plot(kind='bar', rot=0, ylim = [0,1], ax=ax[1,0],color=['royalblue','orangered','darkgrey'])\n",
    "ax[1,0].set_yticks(np.arange(0,1.1,0.1))\n",
    "ax[1,0].set_title('태도코칭 예측 정확도',fontsize=14)\n",
    "\n",
    "fig = y_전략코칭_score.sort_values(by='F1_weighted_Score',ascending=False).plot(kind='bar',rot=0, ylim = [0,1], ax=ax[1,1],color=['royalblue','orangered','darkgrey'])\n",
    "ax[1,1].set_yticks(np.arange(0,1.1,0.1))\n",
    "ax[1,1].set_title('전략코칭 예측 정확도',fontsize=14)\n",
    "\n",
    "fig = y_업무_score.sort_values(by='F1_weighted_Score',ascending=False).plot(kind='bar', rot=0, ylim = [0,1], ax=ax[1,2],color=['royalblue','orangered','darkgrey'])\n",
    "ax[1,2].set_yticks(np.arange(0,1.1,0.1))\n",
    "ax[1,2].set_title('업무지시 예측 정확도',fontsize=14)\n",
    "\n",
    "plt.subplots_adjust(hspace=0.3,wspace=0.2)\n",
    "plt.show()"
   ]
  },
  {
   "cell_type": "markdown",
   "id": "12f4e0ec-0e1d-4664-be7a-922d4c400e29",
   "metadata": {},
   "source": [
    "#### F1_weighted_score, Runtime을 고려하여 라벨 별 상이한 모델 선정\n",
    "\n",
    "- 칭찬_인정: XGBoost\n",
    "- 위로_공감: XGBoost\n",
    "- 격려: SVM\n",
    "- 태도코칭: LightGBM\n",
    "- 전략코칭: SVM\n",
    "- 업무지시: LightGBM"
   ]
  },
  {
   "cell_type": "code",
   "execution_count": 415,
   "id": "b5e07a1c",
   "metadata": {},
   "outputs": [],
   "source": [
    "Target = ['칭찬_인정','위로_공감','격려','태도코칭','전략코칭','업무지시']\n",
    "Basic_F1_Score = [y_칭찬_인정_score.loc[\"XGBoost\",\"F1_weighted_Score\"],y_위로_공감_score.loc[\"XGBoost\",\"F1_weighted_Score\"],y_격려_score.loc[\"SVM\",\"F1_weighted_Score\"]\n",
    "                   ,y_태도코칭_score.loc[\"LightGBM\",\"F1_weighted_Score\"],y_전략코칭_score.loc[\"SVM\",\"F1_weighted_Score\"],y_업무_score.loc[\"LightGBM\",\"F1_weighted_Score\"]]"
   ]
  },
  {
   "cell_type": "code",
   "execution_count": 439,
   "id": "a97d5d63",
   "metadata": {},
   "outputs": [
    {
     "data": {
      "text/plain": [
       "([<matplotlib.axis.YTick at 0x1cabcf4ff70>,\n",
       "  <matplotlib.axis.YTick at 0x1cabcf4fb50>,\n",
       "  <matplotlib.axis.YTick at 0x1cabcf639a0>,\n",
       "  <matplotlib.axis.YTick at 0x1cab9128130>,\n",
       "  <matplotlib.axis.YTick at 0x1cab9128640>,\n",
       "  <matplotlib.axis.YTick at 0x1cab9128b50>,\n",
       "  <matplotlib.axis.YTick at 0x1cab9128880>,\n",
       "  <matplotlib.axis.YTick at 0x1cab913f0d0>,\n",
       "  <matplotlib.axis.YTick at 0x1cab913f5e0>,\n",
       "  <matplotlib.axis.YTick at 0x1cab913faf0>,\n",
       "  <matplotlib.axis.YTick at 0x1cab911c040>],\n",
       " [Text(0, 0, ''),\n",
       "  Text(0, 0, ''),\n",
       "  Text(0, 0, ''),\n",
       "  Text(0, 0, ''),\n",
       "  Text(0, 0, ''),\n",
       "  Text(0, 0, ''),\n",
       "  Text(0, 0, ''),\n",
       "  Text(0, 0, ''),\n",
       "  Text(0, 0, ''),\n",
       "  Text(0, 0, ''),\n",
       "  Text(0, 0, '')])"
      ]
     },
     "execution_count": 439,
     "metadata": {},
     "output_type": "execute_result"
    },
    {
     "data": {
      "image/png": "[encoded data removed]",
      "text/plain": [
       "<Figure size 576x720 with 1 Axes>"
      ]
     },
     "metadata": {},
     "output_type": "display_data"
    }
   ],
   "source": [
    "plt.figure(figsize=(8,10))\n",
    "plt.bar(x = Target, height=Basic_F1_Score, color='royalblue', width=0.7)\n",
    "plt.title(\"각 라벨별 f1_score\", fontsize=14)\n",
    "plt.ylim(0,1.0)\n",
    "plt.yticks(np.arange(0,1.1,0.1))"
   ]
  },
  {
   "cell_type": "markdown",
   "id": "86618a68-1e48-4612-8142-448db87fa89f",
   "metadata": {},
   "source": [
    "### 4-3. 라벨별 파라미터 튜닝\n",
    "\n",
    "#### ※ 파라미터 List\n",
    "    \n",
    "    1) n_estimators : 반복 수행하는 트리의 개수를 의미함.\n",
    "    2) learning_rate : 최종 결과에 대한 각각의 Tree에 영향을 미치는 변수를 추정한 후 추정에서 발생하는 변화의 크기를 컨트롤함\n",
    "    3) min_child_weight : 트리에서 추가적으로 가지를 나눌 지 경정하기 위해 필요한 데이터들의 가중치 총합, 과적합 제어\n",
    "    4) subsample : 과적합을 제어하기 위해 데이터를 샘플링하는 비율을 의미함\n",
    "    5) colsample_bytree : 개별 트리를 학습할 때마다 무작위로 선택하는 피쳐의 비율을 제어한다, 과적합 제어\n",
    "    6) max_depth : Tree의 최대 깊이, 일반적으로 과적합 해결을 위해 이용"
   ]
  },
  {
   "cell_type": "code",
   "execution_count": 421,
   "id": "172de69c-366f-4d8a-8cd0-2f4c8b35d764",
   "metadata": {},
   "outputs": [],
   "source": [
    "from sklearn.linear_model import LogisticRegression\n",
    "from sklearn import svm\n",
    "from sklearn import naive_bayes\n",
    "from xgboost import XGBClassifier\n",
    "from lightgbm import LGBMClassifier\n",
    "from sklearn.metrics import accuracy_score, precision_score, recall_score, f1_score\n",
    "from sklearn.model_selection import train_test_split, StratifiedKFold, cross_val_score\n",
    "from sklearn.preprocessing import minmax_scale\n",
    "\n",
    "Tuned_Test_Score= []"
   ]
  },
  {
   "cell_type": "markdown",
   "id": "4a1b13d7-26c9-4c22-a29a-b978f3e449b7",
   "metadata": {},
   "source": [
    "#### 1) y_칭찬_인정_score(XGBoost)"
   ]
  },
  {
   "cell_type": "code",
   "execution_count": 270,
   "id": "9ea04802-e12c-4a12-996f-68d1152b4b86",
   "metadata": {},
   "outputs": [
    {
     "data": {
      "text/plain": [
       "Test_Accuracy        0.787\n",
       "F1_weighted_Score    0.756\n",
       "Runtime              0.656\n",
       "Name: XGBoost, dtype: float64"
      ]
     },
     "execution_count": 270,
     "metadata": {},
     "output_type": "execute_result"
    }
   ],
   "source": [
    "y_칭찬_인정_score.loc[\"XGBoost\"]"
   ]
  },
  {
   "cell_type": "code",
   "execution_count": 422,
   "id": "002c2beb-9265-4ddc-8b8d-a9f619bc65f9",
   "metadata": {},
   "outputs": [],
   "source": [
    "## train, test 데이터 나누기(칭찬,인정 먼저 진행)\n",
    "from sklearn.model_selection import train_test_split, StratifiedKFold, cross_val_score\n",
    "X_train, X_test, y_train, y_test = train_test_split(feature, y_칭찬_인정, test_size = 0.3, random_state=42)"
   ]
  },
  {
   "cell_type": "code",
   "execution_count": 323,
   "id": "29faf736-74d4-407c-9acb-3cd095c7241e",
   "metadata": {},
   "outputs": [
    {
     "name": "stdout",
     "output_type": "stream",
     "text": [
      "Train_accuracy: 0.849\n",
      "Test_accuracy: 0.787\n",
      "F1_Weighted_Score: 0.756\n"
     ]
    }
   ],
   "source": [
    "# 기본형\n",
    "from xgboost import XGBClassifier\n",
    "\n",
    "xgb = XGBClassifier(eval_metric = 'mlogloss')\n",
    "xgb.fit(X_train,y_train)\n",
    "\n",
    "# 분류 결과 스코어\n",
    "evaluate(xgb,X_train, X_test, y_train, y_test)"
   ]
  },
  {
   "cell_type": "code",
   "execution_count": 324,
   "id": "8e646a0b-55ad-40bb-a4e0-f35002e42b9e",
   "metadata": {},
   "outputs": [
    {
     "name": "stdout",
     "output_type": "stream",
     "text": [
      "Fitting 3 folds for each of 5 candidates, totalling 15 fits\n",
      "\n",
      " Time taken: 0 hours 2 minutes and 43.66 seconds.\n",
      "최적 하이퍼 파라미터:{'subsample': 0.9, 'min_child_weight': 1, 'max_depth': 3, 'learning_rate': 1, 'gamma': 0.4, 'colsample_bytree': 0.9}\n"
     ]
    }
   ],
   "source": [
    "# 파라미터 튜닝\n",
    "from sklearn.model_selection import RandomizedSearchCV, GridSearchCV\n",
    "from sklearn.model_selection import StratifiedKFold\n",
    "\n",
    "params = {\n",
    "        'max_depth': range(3,10,2),\n",
    "        'min_child_weight': range(1,10,2),\n",
    "        'gamma': [i/10.0 for i in range(0,5)],\n",
    "        'subsample':[i/10.0 for i in range(6,10)],\n",
    "        'colsample_bytree':[i/10.0 for i in range(6,10)],\n",
    "        'learning_rate':[1, 0.5, 0.1, 0.01, 0.05],\n",
    "       }\n",
    "\n",
    "\n",
    "folds = 3\n",
    "param_comb = 5\n",
    "\n",
    "skf = StratifiedKFold(n_splits=folds, shuffle = True, random_state = 1001)\n",
    "\n",
    "random_search = RandomizedSearchCV(xgb, param_distributions=params, n_iter=param_comb, scoring='f1_weighted', \n",
    "                                   n_jobs=-1, cv=skf.split(X_train,y_train), verbose=3, random_state=42 )\n",
    "\n",
    "start_time = timer(None)\n",
    "random_search.fit(X_train, y_train)\n",
    "timer(start_time)\n",
    "\n",
    "print('최적 하이퍼 파라미터:{0}'.format(random_search.best_params_))"
   ]
  },
  {
   "cell_type": "code",
   "execution_count": 423,
   "id": "5ed212df-4672-49ba-84df-ee8356df0bf8",
   "metadata": {},
   "outputs": [
    {
     "name": "stdout",
     "output_type": "stream",
     "text": [
      "Train_accuracy: 0.865\n",
      "Test_accuracy: 0.784\n",
      "F1_Weighted_Score: 0.758\n"
     ]
    }
   ],
   "source": [
    "from xgboost import XGBClassifier\n",
    "\n",
    "xgb = XGBClassifier(subsample =0.9, min_child_weight=1, max_depth=3,learning_rate=1,\n",
    "                    gamma=0.4, colsample_bytree=0.9, eval_metric = 'mlogloss')\n",
    "\n",
    "xgb.fit(X_train,y_train)\n",
    "y_test_pred = xgb.predict(X_test)\n",
    "\n",
    "# 분류 결과 스코어\n",
    "evaluate(xgb,X_train, X_test, y_train, y_test)\n",
    "Tuned_Test_Score.append(f1_score(y_test, y_test_pred, average='weighted'))"
   ]
  },
  {
   "cell_type": "markdown",
   "id": "26d98e63-2c05-4508-800b-456e7d21c122",
   "metadata": {},
   "source": [
    "#### 2) y_위로_공감_score(XGBoost)"
   ]
  },
  {
   "cell_type": "code",
   "execution_count": 326,
   "id": "2ac79768-7ff0-40ae-9731-e37df68db11d",
   "metadata": {},
   "outputs": [
    {
     "data": {
      "text/plain": [
       "Test_Accuracy        0.829\n",
       "F1_weighted_Score    0.794\n",
       "Runtime              0.733\n",
       "Name: XGBoost, dtype: float64"
      ]
     },
     "execution_count": 326,
     "metadata": {},
     "output_type": "execute_result"
    }
   ],
   "source": [
    "y_위로_공감_score.loc[\"XGBoost\"]"
   ]
  },
  {
   "cell_type": "code",
   "execution_count": 424,
   "id": "d42723a6-26d1-41d9-b0f0-9e05019c7154",
   "metadata": {},
   "outputs": [],
   "source": [
    "from sklearn.model_selection import train_test_split, StratifiedKFold, cross_val_score\n",
    "X_train, X_test, y_train, y_test = train_test_split(feature, y_위로_공감, test_size = 0.3, random_state=42)"
   ]
  },
  {
   "cell_type": "code",
   "execution_count": 328,
   "id": "2ebbdb7e-7805-488e-b96e-000784ad3756",
   "metadata": {},
   "outputs": [
    {
     "name": "stdout",
     "output_type": "stream",
     "text": [
      "Train_accuracy: 0.894\n",
      "Test_accuracy: 0.829\n",
      "F1_Weighted_Score: 0.794\n"
     ]
    }
   ],
   "source": [
    "# 기본형\n",
    "from xgboost import XGBClassifier\n",
    "\n",
    "xgb = XGBClassifier(eval_metric = 'mlogloss')\n",
    "xgb.fit(X_train,y_train)\n",
    "\n",
    "# 분류 결과 스코어\n",
    "evaluate(xgb,X_train, X_test, y_train, y_test)"
   ]
  },
  {
   "cell_type": "code",
   "execution_count": 329,
   "id": "17565a1a-cb67-4f2b-a9a2-c3f9672b446f",
   "metadata": {},
   "outputs": [
    {
     "name": "stdout",
     "output_type": "stream",
     "text": [
      "Fitting 3 folds for each of 5 candidates, totalling 15 fits\n",
      "\n",
      " Time taken: 0 hours 2 minutes and 40.08 seconds.\n",
      "최적 하이퍼 파라미터:{'subsample': 0.9, 'min_child_weight': 1, 'max_depth': 3, 'learning_rate': 1, 'gamma': 0.4, 'colsample_bytree': 0.9}\n"
     ]
    }
   ],
   "source": [
    "# 파라미터 튜닝\n",
    "from sklearn.model_selection import RandomizedSearchCV, GridSearchCV\n",
    "from sklearn.model_selection import StratifiedKFold\n",
    "\n",
    "params = {\n",
    "        'max_depth': range(3,10,2),\n",
    "        'min_child_weight': range(1,10,2),\n",
    "        'gamma': [i/10.0 for i in range(0,5)],\n",
    "        'subsample':[i/10.0 for i in range(6,10)],\n",
    "        'colsample_bytree':[i/10.0 for i in range(6,10)],\n",
    "        'learning_rate':[1, 0.5, 0.1, 0.01, 0.05],\n",
    "       }\n",
    "\n",
    "\n",
    "folds = 3\n",
    "param_comb = 5\n",
    "\n",
    "skf = StratifiedKFold(n_splits=folds, shuffle = True, random_state = 1001)\n",
    "\n",
    "random_search = RandomizedSearchCV(xgb, param_distributions=params, n_iter=param_comb, scoring='f1_weighted', \n",
    "                                   n_jobs=-1, cv=skf.split(X_train,y_train), verbose=3, random_state=42 )\n",
    "\n",
    "start_time = timer(None)\n",
    "random_search.fit(X_train, y_train)\n",
    "timer(start_time)\n",
    "\n",
    "print('최적 하이퍼 파라미터:{0}'.format(random_search.best_params_))"
   ]
  },
  {
   "cell_type": "code",
   "execution_count": 425,
   "id": "c277afca-e397-497b-a8b5-e64f3b0fca33",
   "metadata": {},
   "outputs": [
    {
     "name": "stdout",
     "output_type": "stream",
     "text": [
      "Train_accuracy: 0.905\n",
      "Test_accuracy: 0.824\n",
      "F1_Weighted_Score: 0.798\n"
     ]
    }
   ],
   "source": [
    "from xgboost import XGBClassifier\n",
    "\n",
    "xgb = XGBClassifier(subsample =0.9, min_child_weight= 1, max_depth= 3,learning_rate = 1,\n",
    "                    gamma=0.4, colsample_bytree=0.9, eval_metric = 'mlogloss')\n",
    "\n",
    "xgb.fit(X_train,y_train)\n",
    "y_test_pred = xgb.predict(X_test)\n",
    "\n",
    "# 분류 결과 스코어\n",
    "evaluate(xgb,X_train, X_test, y_train, y_test)\n",
    "Tuned_Test_Score.append(f1_score(y_test, y_test_pred, average='weighted'))"
   ]
  },
  {
   "cell_type": "markdown",
   "id": "e88e646e-2b09-4166-a83f-e40b872fa322",
   "metadata": {},
   "source": [
    "#### 3) y_격려_score(SVM)"
   ]
  },
  {
   "cell_type": "code",
   "execution_count": 414,
   "id": "9470ccc2-8f48-4b17-9684-6d7f788aaa2b",
   "metadata": {},
   "outputs": [
    {
     "data": {
      "text/plain": [
       "Test_Accuracy        0.714\n",
       "F1_weighted_Score    0.662\n",
       "Runtime              1.000\n",
       "Name: SVM, dtype: float64"
      ]
     },
     "execution_count": 414,
     "metadata": {},
     "output_type": "execute_result"
    }
   ],
   "source": [
    "y_격려_score.loc[\"SVM\"]"
   ]
  },
  {
   "cell_type": "code",
   "execution_count": 426,
   "id": "6a8ac35b-a7d1-4a4a-b5c8-cde7cf57f377",
   "metadata": {},
   "outputs": [],
   "source": [
    "from sklearn.model_selection import train_test_split, StratifiedKFold\n",
    "X_train, X_test, y_train, y_test = train_test_split(feature, y_격려, test_size = 0.3, random_state=42)"
   ]
  },
  {
   "cell_type": "code",
   "execution_count": 418,
   "id": "9726985e-91a0-4af5-a853-fac89bb23981",
   "metadata": {},
   "outputs": [
    {
     "name": "stdout",
     "output_type": "stream",
     "text": [
      "Train_accuracy: 0.845\n",
      "Test_accuracy: 0.714\n",
      "F1_Weighted_Score: 0.662\n"
     ]
    }
   ],
   "source": [
    "# 기본형\n",
    "from sklearn import svm\n",
    "\n",
    "svm = svm.SVC(kernel='linear')\n",
    "svm.fit(X_train,y_train)\n",
    "\n",
    "# 분류 결과 스코어\n",
    "evaluate(svm,X_train, X_test, y_train, y_test)"
   ]
  },
  {
   "cell_type": "code",
   "execution_count": 419,
   "id": "fe8e81c3-e7b7-4792-9c4a-e5f63ae09e52",
   "metadata": {},
   "outputs": [
    {
     "name": "stdout",
     "output_type": "stream",
     "text": [
      "Fitting 3 folds for each of 5 candidates, totalling 15 fits\n",
      "\n",
      " Time taken: 0 hours 3 minutes and 24.37 seconds.\n",
      "최적 하이퍼 파라미터:{'gamma': 0.1, 'C': 10}\n"
     ]
    }
   ],
   "source": [
    "# 파라미터 튜닝\n",
    "from sklearn.model_selection import RandomizedSearchCV\n",
    "from scipy.stats import randint as sp_randint\n",
    "from scipy.stats import uniform as sp_uniform\n",
    "\n",
    "params = {\n",
    "        'C': [0.1, 1, 10, 100, 1000], \n",
    "        'gamma': [1, 0.1, 0.01, 0.001, 0.0001]\n",
    "        }\n",
    "\n",
    "folds = 3\n",
    "param_comb = 5\n",
    "\n",
    "skf = StratifiedKFold(n_splits=folds, shuffle = True, random_state = 1001)\n",
    "\n",
    "random_search = RandomizedSearchCV(svm, param_distributions=params, n_iter=param_comb, scoring='f1_weighted', \n",
    "                                   n_jobs=-1, cv=skf.split(X_train,y_train), verbose=3, random_state=42)\n",
    "\n",
    "start_time = timer(None)\n",
    "random_search.fit(X_train, y_train)\n",
    "timer(start_time)\n",
    "\n",
    "print('최적 하이퍼 파라미터:{0}'.format(random_search.best_params_))"
   ]
  },
  {
   "cell_type": "code",
   "execution_count": 427,
   "id": "efbf599f-541c-44e3-9e78-023ce1908b4f",
   "metadata": {},
   "outputs": [
    {
     "name": "stdout",
     "output_type": "stream",
     "text": [
      "Train_accuracy: 0.950\n",
      "Test_accuracy: 0.710\n",
      "F1_Weighted_Score: 0.687\n"
     ]
    }
   ],
   "source": [
    "from sklearn import svm\n",
    "svm = svm.SVC(kernel='linear', gamma=0.1, C=10)\n",
    "\n",
    "svm.fit(X_train,y_train)\n",
    "y_test_pred = svm.predict(X_test)\n",
    "\n",
    "# 분류 결과 스코어\n",
    "evaluate(svm,X_train, X_test, y_train, y_test)\n",
    "Tuned_Test_Score.append(f1_score(y_test, y_test_pred, average='weighted'))"
   ]
  },
  {
   "cell_type": "markdown",
   "id": "12ab10fa-2533-4419-bee1-a5f9b7aabb10",
   "metadata": {},
   "source": [
    "#### 4) y_태도코칭_score(LightGBM)"
   ]
  },
  {
   "cell_type": "code",
   "execution_count": 340,
   "id": "8c7e1279-f58b-4e0c-9e69-f3adb90278f7",
   "metadata": {},
   "outputs": [
    {
     "data": {
      "text/plain": [
       "Test_Accuracy        0.793\n",
       "F1_weighted_Score    0.733\n",
       "Runtime              0.177\n",
       "Name: LightGBM, dtype: float64"
      ]
     },
     "execution_count": 340,
     "metadata": {},
     "output_type": "execute_result"
    }
   ],
   "source": [
    "y_태도코칭_score.loc[\"LightGBM\"]"
   ]
  },
  {
   "cell_type": "code",
   "execution_count": 428,
   "id": "c8ab4665-689a-4ccf-a516-b01967ed15a4",
   "metadata": {},
   "outputs": [],
   "source": [
    "from sklearn.model_selection import train_test_split, StratifiedKFold\n",
    "\n",
    "X_train, X_test, y_train, y_test = train_test_split(feature, y_태도코칭, test_size = 0.3, random_state=42)"
   ]
  },
  {
   "cell_type": "code",
   "execution_count": 342,
   "id": "64b3f22f-1d0d-4b6b-80fa-7c09d3f2f45c",
   "metadata": {},
   "outputs": [
    {
     "name": "stdout",
     "output_type": "stream",
     "text": [
      "Train_accuracy: 0.851\n",
      "Test_accuracy: 0.793\n",
      "F1_Weighted_Score: 0.733\n"
     ]
    }
   ],
   "source": [
    "from lightgbm import LGBMClassifier\n",
    "\n",
    "lgbm = LGBMClassifier(objective ='multiclass:4', metric=\"multiclass\")\n",
    "lgbm.fit(X_train,y_train)\n",
    "\n",
    "# 분류 결과 스코어\n",
    "evaluate(lgbm,X_train, X_test, y_train, y_test)"
   ]
  },
  {
   "cell_type": "code",
   "execution_count": 343,
   "id": "799d548d-84a4-4d6a-8f5d-ebeccf1347d8",
   "metadata": {},
   "outputs": [
    {
     "name": "stdout",
     "output_type": "stream",
     "text": [
      "Fitting 3 folds for each of 5 candidates, totalling 15 fits\n",
      "[LightGBM] [Warning] Unknown parameter: gamma\n",
      "\n",
      " Time taken: 0 hours 0 minutes and 55.17 seconds.\n",
      "최적 하이퍼 파라미터:{'subsample': 0.8, 'n_estimators': 750, 'min_child_weight': 3, 'max_depth': 9, 'learning_rate': 0.5, 'gamma': 0.3, 'colsample_bytree': 0.6}\n"
     ]
    }
   ],
   "source": [
    "# 파라미터 튜닝\n",
    "from sklearn.model_selection import RandomizedSearchCV, GridSearchCV\n",
    "from scipy.stats import randint as sp_randint\n",
    "from scipy.stats import uniform as sp_uniform\n",
    "\n",
    "params = {\n",
    "        'n_estimators' : range(0,800,50),\n",
    "        'max_depth': range(1,10,2),\n",
    "        'min_child_weight': range(1,10,2),\n",
    "        'subsample':[i/10.0 for i in range(6,10)],\n",
    "        'colsample_bytree':[i/10.0 for i in range(6,10)],\n",
    "        'learning_rate':[1, 0.5, 0.1, 0.01, 0.05],\n",
    "        }\n",
    "\n",
    "folds = 3\n",
    "param_comb = 5\n",
    "\n",
    "skf = StratifiedKFold(n_splits=folds, shuffle = True, random_state = 1001)\n",
    "\n",
    "random_search = RandomizedSearchCV(lgbm, param_distributions=params, n_iter=param_comb, scoring='f1_weighted', \n",
    "                                   n_jobs=-1, cv=skf.split(X_train,y_train), verbose=3, random_state=42)\n",
    "\n",
    "start_time = timer(None)\n",
    "random_search.fit(X_train, y_train)\n",
    "timer(start_time)\n",
    "\n",
    "print('최적 하이퍼 파라미터:{0}'.format(random_search.best_params_))"
   ]
  },
  {
   "cell_type": "code",
   "execution_count": 429,
   "id": "2ec367de-0564-4379-b6df-13ee22695668",
   "metadata": {},
   "outputs": [
    {
     "name": "stdout",
     "output_type": "stream",
     "text": [
      "[LightGBM] [Warning] Unknown parameter: gamma\n",
      "Train_accuracy: 0.920\n",
      "Test_accuracy: 0.775\n",
      "F1_Weighted_Score: 0.737\n"
     ]
    }
   ],
   "source": [
    "from lightgbm import LGBMClassifier\n",
    "lgbm = LGBMClassifier(subsample = 0.8, n_estimators = 750, min_child_weight = 3, max_depth = 9, learning_rate = 0.5, \n",
    "                      gamma = 0.3, colsample_bytree = 0.6, metric=\"multiclass\")\n",
    "lgbm.fit(X_train,y_train)\n",
    "y_test_pred = lgbm.predict(X_test)\n",
    "\n",
    "# 분류 결과 스코어\n",
    "evaluate(lgbm,X_train, X_test, y_train, y_test)\n",
    "Tuned_Test_Score.append(f1_score(y_test, y_test_pred, average='weighted'))"
   ]
  },
  {
   "cell_type": "markdown",
   "id": "9ea030d1-f3d3-4c6c-a425-269e971037a9",
   "metadata": {},
   "source": [
    "#### 5) y_전략코칭_score(SVM)"
   ]
  },
  {
   "cell_type": "code",
   "execution_count": 346,
   "id": "ba299aec-bd06-4bdc-bcb1-3d5f97bcc855",
   "metadata": {},
   "outputs": [
    {
     "data": {
      "text/plain": [
       "Test_Accuracy        0.658\n",
       "F1_weighted_Score    0.626\n",
       "Runtime              1.000\n",
       "Name: SVM, dtype: float64"
      ]
     },
     "execution_count": 346,
     "metadata": {},
     "output_type": "execute_result"
    }
   ],
   "source": [
    "y_전략코칭_score.loc[\"SVM\"]"
   ]
  },
  {
   "cell_type": "code",
   "execution_count": 430,
   "id": "cd863f92-2a76-4e2f-a903-5e50f345e69b",
   "metadata": {},
   "outputs": [],
   "source": [
    "from sklearn.model_selection import train_test_split, StratifiedKFold\n",
    "\n",
    "X_train, X_test, y_train, y_test = train_test_split(feature, y_전략코칭, test_size = 0.3, random_state=42)"
   ]
  },
  {
   "cell_type": "code",
   "execution_count": 348,
   "id": "683126e6-a65c-4a56-b1c0-e7ec7f2d24c9",
   "metadata": {},
   "outputs": [
    {
     "name": "stdout",
     "output_type": "stream",
     "text": [
      "Train_accuracy: 0.858\n",
      "Test_accuracy: 0.658\n",
      "F1_Weighted_Score: 0.626\n"
     ]
    }
   ],
   "source": [
    "from sklearn import svm\n",
    "\n",
    "\n",
    "svm = svm.SVC(kernel='linear')\n",
    "svm.fit(X_train,y_train)\n",
    "\n",
    "# 분류 결과 스코어\n",
    "evaluate(svm,X_train, X_test, y_train, y_test)"
   ]
  },
  {
   "cell_type": "code",
   "execution_count": 349,
   "id": "f6bf3023-9297-4fd4-a8bd-5536def828af",
   "metadata": {},
   "outputs": [
    {
     "name": "stdout",
     "output_type": "stream",
     "text": [
      "Fitting 3 folds for each of 5 candidates, totalling 15 fits\n",
      "\n",
      " Time taken: 0 hours 1 minutes and 53.05 seconds.\n",
      "최적 하이퍼 파라미터:{'gamma': 0.1, 'C': 10}\n"
     ]
    }
   ],
   "source": [
    "# 파라미터 튜닝\n",
    "from sklearn.model_selection import RandomizedSearchCV\n",
    "from scipy.stats import randint as sp_randint\n",
    "from scipy.stats import uniform as sp_uniform\n",
    "\n",
    "params = {\n",
    "        'C': [0.1, 1, 10, 100, 1000], \n",
    "        'gamma': [1, 0.1, 0.01, 0.001, 0.0001]\n",
    "        }\n",
    "\n",
    "folds = 3\n",
    "param_comb = 5\n",
    "\n",
    "skf = StratifiedKFold(n_splits=folds, shuffle = True, random_state = 1001)\n",
    "\n",
    "random_search = RandomizedSearchCV(svm, param_distributions=params, n_iter=param_comb, scoring='f1_weighted', \n",
    "                                   n_jobs=-1, cv=skf.split(X_train,y_train), verbose=3, random_state=42)\n",
    "\n",
    "start_time = timer(None)\n",
    "random_search.fit(X_train, y_train)\n",
    "timer(start_time)\n",
    "\n",
    "print('최적 하이퍼 파라미터:{0}'.format(random_search.best_params_))"
   ]
  },
  {
   "cell_type": "code",
   "execution_count": 431,
   "id": "5f39e153-0cfc-4bd8-b513-45bce6f9bc6f",
   "metadata": {},
   "outputs": [
    {
     "name": "stdout",
     "output_type": "stream",
     "text": [
      "Train_accuracy: 0.953\n",
      "Test_accuracy: 0.640\n",
      "F1_Weighted_Score: 0.633\n"
     ]
    }
   ],
   "source": [
    "from sklearn import svm\n",
    "svm = svm.SVC(kernel='linear', gamma=0.1, C=10)\n",
    "\n",
    "svm.fit(X_train,y_train)\n",
    "y_test_pred = svm.predict(X_test)\n",
    "\n",
    "# 분류 결과 스코어\n",
    "evaluate(svm,X_train, X_test, y_train, y_test)\n",
    "Tuned_Test_Score.append(f1_score(y_test, y_test_pred, average='weighted'))"
   ]
  },
  {
   "cell_type": "markdown",
   "id": "467f5932-401b-460e-909e-650049e549af",
   "metadata": {},
   "source": [
    "#### 6) y_업무지시_score(LightGBM)"
   ]
  },
  {
   "cell_type": "code",
   "execution_count": 352,
   "id": "19c06a4d-3da1-493e-8ede-ff9261218eb4",
   "metadata": {},
   "outputs": [
    {
     "data": {
      "text/plain": [
       "Test_Accuracy        0.807\n",
       "F1_weighted_Score    0.761\n",
       "Runtime              0.191\n",
       "Name: LightGBM, dtype: float64"
      ]
     },
     "execution_count": 352,
     "metadata": {},
     "output_type": "execute_result"
    }
   ],
   "source": [
    "y_업무_score.loc[\"LightGBM\"]"
   ]
  },
  {
   "cell_type": "code",
   "execution_count": 432,
   "id": "c56d28e1-e918-4b7d-8b46-f84bbb6bf671",
   "metadata": {},
   "outputs": [],
   "source": [
    "from sklearn.model_selection import train_test_split, StratifiedKFold, cross_val_score\n",
    "\n",
    "X_train, X_test, y_train, y_test = train_test_split(feature, y_업무, test_size = 0.3, random_state=42)"
   ]
  },
  {
   "cell_type": "code",
   "execution_count": 362,
   "id": "1e2e0808-23bf-4b91-8df8-477b0b59a013",
   "metadata": {},
   "outputs": [
    {
     "name": "stdout",
     "output_type": "stream",
     "text": [
      "Train_accuracy: 0.885\n",
      "Test_accuracy: 0.807\n",
      "F1_Weighted_Score: 0.761\n"
     ]
    }
   ],
   "source": [
    "from lightgbm import LGBMClassifier\n",
    "\n",
    "# 학습\n",
    "lgbm = LGBMClassifier(objective ='multiclass:4', metric=\"multiclass\")\n",
    "lgbm.fit(X_train, y_train)\n",
    "\n",
    "# 분류 결과 스코어\n",
    "\n",
    "evaluate(lgbm,X_train, X_test, y_train, y_test)"
   ]
  },
  {
   "cell_type": "code",
   "execution_count": 363,
   "id": "41f24a0f-8710-4b95-8825-a3e4da6bedad",
   "metadata": {},
   "outputs": [
    {
     "name": "stdout",
     "output_type": "stream",
     "text": [
      "Fitting 3 folds for each of 5 candidates, totalling 15 fits\n",
      "\n",
      " Time taken: 0 hours 0 minutes and 47.42 seconds.\n",
      "최적 하이퍼 파라미터:{'subsample': 0.9, 'n_estimators': 600, 'min_child_weight': 3, 'max_depth': 9, 'learning_rate': 0.05, 'colsample_bytree': 0.7}\n"
     ]
    }
   ],
   "source": [
    "# 파라미터 튜닝\n",
    "from sklearn.model_selection import RandomizedSearchCV, GridSearchCV\n",
    "from scipy.stats import randint as sp_randint\n",
    "from scipy.stats import uniform as sp_uniform\n",
    "\n",
    "params = {\n",
    "        'n_estimators' : range(0,800,50),\n",
    "        'max_depth': range(1,10,2),\n",
    "        'min_child_weight': range(1,10,2),\n",
    "        'subsample':[i/10.0 for i in range(6,10)],\n",
    "        'colsample_bytree':[i/10.0 for i in range(6,10)],\n",
    "        'learning_rate':[1, 0.5, 0.1, 0.01, 0.05],\n",
    "        }\n",
    "\n",
    "folds = 3\n",
    "param_comb = 5\n",
    "\n",
    "skf = StratifiedKFold(n_splits=folds, shuffle = True, random_state = 1001)\n",
    "\n",
    "random_search = RandomizedSearchCV(lgbm, param_distributions=params, n_iter=param_comb, scoring='f1_weighted', \n",
    "                                   n_jobs=-1, cv=skf.split(X_train,y_train), verbose=3, random_state=42)\n",
    "\n",
    "start_time = timer(None)\n",
    "random_search.fit(X_train, y_train)\n",
    "timer(start_time)\n",
    "\n",
    "print('최적 하이퍼 파라미터:{0}'.format(random_search.best_params_))"
   ]
  },
  {
   "cell_type": "code",
   "execution_count": 433,
   "id": "df1e68f4-3f16-4574-a9d9-59181b63ca17",
   "metadata": {},
   "outputs": [
    {
     "name": "stdout",
     "output_type": "stream",
     "text": [
      "Train_accuracy: 0.878\n",
      "Test_accuracy: 0.807\n",
      "F1_Weighted_Score: 0.763\n"
     ]
    }
   ],
   "source": [
    "from lightgbm import LGBMClassifier\n",
    "\n",
    "lgbm = LGBMClassifier(subsample = 0.9, n_estimators = 600, min_child_weight = 3, max_depth = 9, learning_rate = 0.05, \n",
    "                      colsample_bytree = 0.7, metric=\"multiclass\")\n",
    "lgbm.fit(X_train,y_train)\n",
    "y_test_pred = lgbm.predict(X_test)\n",
    "\n",
    "# 분류 결과 스코어\n",
    "evaluate(lgbm,X_train, X_test, y_train, y_test)\n",
    "Tuned_Test_Score.append(f1_score(y_test, y_test_pred, average='weighted'))"
   ]
  },
  {
   "cell_type": "code",
   "execution_count": 435,
   "id": "4a3978e7-2103-4626-bd7d-aca5079e1006",
   "metadata": {},
   "outputs": [
    {
     "data": {
      "text/html": [
       "<div>\n",
       "<style scoped>\n",
       "    .dataframe tbody tr th:only-of-type {\n",
       "        vertical-align: middle;\n",
       "    }\n",
       "\n",
       "    .dataframe tbody tr th {\n",
       "        vertical-align: top;\n",
       "    }\n",
       "\n",
       "    .dataframe thead th {\n",
       "        text-align: right;\n",
       "    }\n",
       "</style>\n",
       "<table border=\"1\" class=\"dataframe\">\n",
       "  <thead>\n",
       "    <tr style=\"text-align: right;\">\n",
       "      <th></th>\n",
       "      <th>Basic_F1_Score</th>\n",
       "      <th>Tuned_F1_Score</th>\n",
       "    </tr>\n",
       "  </thead>\n",
       "  <tbody>\n",
       "    <tr>\n",
       "      <th>칭찬_인정</th>\n",
       "      <td>0.756</td>\n",
       "      <td>0.758</td>\n",
       "    </tr>\n",
       "    <tr>\n",
       "      <th>위로_공감</th>\n",
       "      <td>0.794</td>\n",
       "      <td>0.798</td>\n",
       "    </tr>\n",
       "    <tr>\n",
       "      <th>격려</th>\n",
       "      <td>0.662</td>\n",
       "      <td>0.687</td>\n",
       "    </tr>\n",
       "    <tr>\n",
       "      <th>태도코칭</th>\n",
       "      <td>0.733</td>\n",
       "      <td>0.737</td>\n",
       "    </tr>\n",
       "    <tr>\n",
       "      <th>전략코칭</th>\n",
       "      <td>0.626</td>\n",
       "      <td>0.633</td>\n",
       "    </tr>\n",
       "    <tr>\n",
       "      <th>업무지시</th>\n",
       "      <td>0.761</td>\n",
       "      <td>0.763</td>\n",
       "    </tr>\n",
       "  </tbody>\n",
       "</table>\n",
       "</div>"
      ],
      "text/plain": [
       "       Basic_F1_Score  Tuned_F1_Score\n",
       "칭찬_인정           0.756           0.758\n",
       "위로_공감           0.794           0.798\n",
       "격려              0.662           0.687\n",
       "태도코칭            0.733           0.737\n",
       "전략코칭            0.626           0.633\n",
       "업무지시            0.761           0.763"
      ]
     },
     "execution_count": 435,
     "metadata": {},
     "output_type": "execute_result"
    }
   ],
   "source": [
    "Label_Score = pd.DataFrame({\"Basic_F1_Score\":Basic_F1_Score, \"Tuned_F1_Score\":Tuned_Test_Score}, index = Target)\n",
    "Label_Score['Tuned_F1_Score'] = round(Label_Score['Tuned_F1_Score'],3)\n",
    "Label_Score"
   ]
  },
  {
   "cell_type": "code",
   "execution_count": 436,
   "id": "ba7ebbd0-17e6-4bd5-86b6-230b6a00a7ca",
   "metadata": {},
   "outputs": [
    {
     "data": {
      "text/plain": [
       "([<matplotlib.axis.YTick at 0x1caa77a1580>,\n",
       "  <matplotlib.axis.YTick at 0x1caa77a1c40>,\n",
       "  <matplotlib.axis.YTick at 0x1c9c809c190>,\n",
       "  <matplotlib.axis.YTick at 0x1caa77abd00>,\n",
       "  <matplotlib.axis.YTick at 0x1c9cbbf8e50>,\n",
       "  <matplotlib.axis.YTick at 0x1cab6db0c10>,\n",
       "  <matplotlib.axis.YTick at 0x1caa77abb80>,\n",
       "  <matplotlib.axis.YTick at 0x1caa793c1f0>,\n",
       "  <matplotlib.axis.YTick at 0x1caa793c700>,\n",
       "  <matplotlib.axis.YTick at 0x1caa793cc10>,\n",
       "  <matplotlib.axis.YTick at 0x1caa7923160>],\n",
       " [Text(0, 0, ''),\n",
       "  Text(0, 0, ''),\n",
       "  Text(0, 0, ''),\n",
       "  Text(0, 0, ''),\n",
       "  Text(0, 0, ''),\n",
       "  Text(0, 0, ''),\n",
       "  Text(0, 0, ''),\n",
       "  Text(0, 0, ''),\n",
       "  Text(0, 0, ''),\n",
       "  Text(0, 0, ''),\n",
       "  Text(0, 0, '')])"
      ]
     },
     "execution_count": 436,
     "metadata": {},
     "output_type": "execute_result"
    },
    {
     "data": {
      "image/png": "[encoded data removed]",
      "text/plain": [
       "<Figure size 864x720 with 1 Axes>"
      ]
     },
     "metadata": {},
     "output_type": "display_data"
    }
   ],
   "source": [
    "parameters = {'xtick.labelsize': 12, 'ytick.labelsize': 12, 'legend.fontsize': 12}\n",
    "plt.rcParams.update(parameters)\n",
    "fig = Label_Score.plot(kind='bar', figsize=(12,10), ylim=[0,1.0],color =['royalblue','orangered'])\n",
    "plt.title(\"각 라벨별 예측 정확도\", fontsize=14)\n",
    "plt.xticks(rotation=0)\n",
    "plt.yticks(np.arange(0,1.1,0.1))"
   ]
  },
  {
   "cell_type": "markdown",
   "id": "52572111-8b74-4db4-ad58-2885f221d35a",
   "metadata": {},
   "source": [
    "파라미터 튜닝을 했음에도 격려, 전략코칭의 경우 정확도가 70%에 미치지 못하여 차후 훈련데이터 추가등의 조치가 필요함"
   ]
  },
  {
   "cell_type": "markdown",
   "id": "20770fcf-72fb-499c-a785-6f839fcd2d11",
   "metadata": {},
   "source": [
    "## 5. 새로운 dataframe에 적용 모델"
   ]
  },
  {
   "cell_type": "code",
   "execution_count": 468,
   "id": "8ba71049-7023-4b39-b9ae-cf572f0be364",
   "metadata": {},
   "outputs": [],
   "source": [
    "# 훈련 데이터 불러오기\n",
    "data = pd.read_csv(\"C:/Users/midashrm/Documents/PythonWork/Sentiment_Analysis/성장전략서_words.csv\", encoding='utf-8')\n",
    "df = data.copy()\n",
    "\n",
    "feature = bow_vect\n",
    "y_칭찬_인정 = df['칭찬,인정'].astype('int64')\n",
    "y_위로_공감 = df['위로,공감'].astype('int64')\n",
    "y_격려 = df['격려'].astype('int64')\n",
    "y_태도코칭 = df['태도코칭'].astype('int64')\n",
    "y_전략코칭 = df['전략코칭'].astype('int64')\n",
    "y_업무 = df['업무'].astype('int64')"
   ]
  },
  {
   "cell_type": "code",
   "execution_count": 469,
   "id": "452016ee-f393-4f06-a36e-8202b4d863e8",
   "metadata": {},
   "outputs": [],
   "source": [
    "from sklearn.model_selection import train_test_split, StratifiedKFold\n",
    "from konlpy.tag import Okt,Komoran\n",
    "okt = Okt()\n",
    "from sklearn.feature_extraction.text import CountVectorizer, TfidfVectorizer,TfidfTransformer\n",
    "from sklearn.model_selection import train_test_split, StratifiedKFold\n",
    "from lightgbm import LGBMClassifier\n",
    "from sklearn import svm\n",
    "\n",
    "# 예측 모델 함수\n",
    "def predict_model(data, word): #data: 훈련 데이터, word: 새로운 데이터(시리즈 형태로 입력)\n",
    "    \n",
    "    # 학습 데이터 불러오기 \n",
    "    start_time = timer(None)\n",
    "\n",
    "    # 결측치 처리\n",
    "    df = data.copy()\n",
    "    df = df[df['문장'].notnull()]\n",
    "    df['칭찬,인정'].fillna('0',inplace=True)\n",
    "    df['위로,공감'].fillna('0',inplace=True)\n",
    "    df['위로,공감'].replace(\" \",'0',inplace=True) \n",
    "    df['격려'].fillna('0',inplace=True)\n",
    "    df['태도코칭'].fillna('0',inplace=True)\n",
    "    df['전략코칭'].fillna('0',inplace=True)\n",
    "    df['업무'].fillna('0',inplace=True)\n",
    "    df.reset_index(drop=True,inplace=True)\n",
    "    \n",
    "    # 학습 데이터 벡터화\n",
    "    tf_idf_vect = TfidfVectorizer(dtype=np.float32, tokenizer = lambda x:word_extract(x),ngram_range = (1, 2))\n",
    "    bow_vect = tf_idf_vect.fit_transform(df['문장'].tolist())\n",
    "    feature = bow_vect\n",
    "    print(\"훈련 데이터 벡터화 완료\")\n",
    "    \n",
    "    # 타겟 변수 설정\n",
    "    y_칭찬_인정 = df['칭찬,인정'].astype('int64')\n",
    "    y_위로_공감 = df['위로,공감'].astype('int64')\n",
    "    y_격려 = df['격려'].astype('int64')\n",
    "    y_태도코칭 = df['태도코칭'].astype('int64')\n",
    "    y_전략코칭 = df['전략코칭'].astype('int64')\n",
    "    y_업무 = df['업무'].astype('int64')\n",
    "    \n",
    "    # 예측 할 Data 전처리 및 벡터화(시리즈 형식의 데이터 형태로 입력)\n",
    "    word.dropna(axis=0,inplace=True)\n",
    "    new_word = tf_idf_vect.transform(word.to_list())\n",
    "    pred = pd.DataFrame(word)  \n",
    "    print(\"새로운 데이터 벡터화 완료\")\n",
    "    \n",
    "    ## 칭찬_인정 예측\n",
    "    X_train, X_test, y_train, y_test = train_test_split(feature,y_칭찬_인정,test_size=0.3,random_state=42)\n",
    "    xgb_칭찬 = XGBClassifier(subsample =0.9, min_child_weight=1, max_depth=3,learning_rate=1,\n",
    "                gamma=0.4, colsample_bytree=0.9, eval_metric = 'mlogloss')\n",
    "    \n",
    "    xgb_칭찬.fit(X_train, y_train)\n",
    "    pred['칭찬_인정'] = xgb_칭찬.predict(new_word)\n",
    "    print(\"칭찬_인정 완료\")\n",
    "    \n",
    "    ## 위로_공감 예측\n",
    "    X_train, X_test, y_train, y_test = train_test_split(feature,y_위로_공감,test_size=0.3,random_state=42)\n",
    "    xgb_위로 = XGBClassifier(subsample =0.9, min_child_weight= 1, max_depth= 3,learning_rate = 1,\n",
    "                gamma=0.4, colsample_bytree=0.9, eval_metric = 'mlogloss')\n",
    "    xgb_위로.fit(X_train, y_train)\n",
    "    pred['위로_공감'] = xgb_위로.predict(new_word)\n",
    "    print(\"위로_공감 완료\")\n",
    "    \n",
    "    ## 격려 예측\n",
    "    X_train, X_test, y_train, y_test = train_test_split(feature,y_격려,test_size=0.3,random_state=42)\n",
    "    svm_격려 = svm.SVC(kernel='linear', gamma=0.1, C=10)\n",
    "    svm_격려.fit(X_train, y_train)\n",
    "    pred['격려'] = svm_격려.predict(new_word)\n",
    "    print(\"격려 완료\")\n",
    "    \n",
    "    ## 태도코칭 예측\n",
    "    X_train, X_test, y_train, y_test = train_test_split(feature,y_태도코칭,test_size=0.3,random_state=42)\n",
    "    lgbm_태도코칭 = LGBMClassifier(subsample = 0.8, n_estimators = 750, min_child_weight = 3, max_depth = 9, learning_rate = 0.5, \n",
    "                                    colsample_bytree = 0.6, metric=\"multiclass\")\n",
    "    lgbm_태도코칭.fit(X_train, y_train)\n",
    "    pred['태도코칭'] = lgbm_태도코칭.predict(new_word)\n",
    "    print(\"태도코칭 완료\")\n",
    "    \n",
    "    ## 전략코칭 예측\n",
    "    X_train, X_test, y_train, y_test = train_test_split(feature,y_전략코칭,test_size=0.3,random_state=42)\n",
    "    svm_전략코칭 = svm.SVC(kernel='linear', gamma=0.1, C=10)\n",
    "    svm_전략코칭.fit(X_train, y_train)\n",
    "    pred['전략코칭'] = svm_전략코칭.predict(new_word)\n",
    "    print(\"전략코칭 완료\")\n",
    "    \n",
    "    ## 업무지시 예측\n",
    "    X_train, X_test, y_train, y_test = train_test_split(feature,y_업무,test_size=0.3,random_state=42)\n",
    "    lgbm_업무지시 = LGBMClassifier(subsample = 0.9, n_estimators = 600, min_child_weight = 3, max_depth = 9, learning_rate = 0.05, \n",
    "                      colsample_bytree = 0.7, metric=\"multiclass\")\n",
    "    lgbm_업무지시.fit(X_train, y_train)\n",
    "    pred['업무지시'] = lgbm_업무지시.predict(new_word)\n",
    "    print(\"업무지시 완료\")\n",
    "    \n",
    "    timer(start_time)\n",
    "    return pred"
   ]
  },
  {
   "cell_type": "code",
   "execution_count": 470,
   "id": "31ebff1f-c761-47f9-ac08-a3a4cf5ccc2c",
   "metadata": {},
   "outputs": [],
   "source": [
    "new_data = pd.read_csv(\"C:/Users/midashrm/Documents/PythonWork/Sentiment_Analysis/sum_df_상반기_sum.csv\", encoding='cp949')"
   ]
  },
  {
   "cell_type": "code",
   "execution_count": 474,
   "id": "8614b080-0a68-45e5-a3f6-2811fa111ace",
   "metadata": {},
   "outputs": [
    {
     "data": {
      "text/plain": [
       "6442                            NaN\n",
       "6443     다 같이 설명회를 한번 하도록 합시다!!.^^.\n",
       "6444                            NaN\n",
       "6465                            NaN\n",
       "6466                            NaN\n",
       "                    ...            \n",
       "28849                 너무 화내진 마시구요^^\n",
       "28850                           NaN\n",
       "28851                  하나하나 잡아야 겠네요\n",
       "28852                           NaN\n",
       "28853         버그를 찾는게 정길님의 실적입니다 ㅠㅠ\n",
       "Name: 소통내용_리더_팔로워, Length: 15552, dtype: object"
      ]
     },
     "execution_count": 474,
     "metadata": {},
     "output_type": "execute_result"
    }
   ],
   "source": [
    "# 2분기 데이터 이용\n",
    "word = new_data['소통내용_리더_팔로워'][new_data['월'].isin([4,5])]\n",
    "word"
   ]
  },
  {
   "cell_type": "code",
   "execution_count": 475,
   "id": "13cf8e49-03d6-42cf-ad14-ee566e46d737",
   "metadata": {},
   "outputs": [
    {
     "name": "stdout",
     "output_type": "stream",
     "text": [
      "훈련 데이터 벡터화 완료\n",
      "새로운 데이터 벡터화 완료\n",
      "칭찬_인정 완료\n",
      "위로_공감 완료\n",
      "격려 완료\n",
      "태도코칭 완료\n",
      "전략코칭 완료\n",
      "업무지시 완료\n",
      "\n",
      " Time taken: 0 hours 3 minutes and 10.4 seconds.\n"
     ]
    },
    {
     "data": {
      "text/html": [
       "<div>\n",
       "<style scoped>\n",
       "    .dataframe tbody tr th:only-of-type {\n",
       "        vertical-align: middle;\n",
       "    }\n",
       "\n",
       "    .dataframe tbody tr th {\n",
       "        vertical-align: top;\n",
       "    }\n",
       "\n",
       "    .dataframe thead th {\n",
       "        text-align: right;\n",
       "    }\n",
       "</style>\n",
       "<table border=\"1\" class=\"dataframe\">\n",
       "  <thead>\n",
       "    <tr style=\"text-align: right;\">\n",
       "      <th></th>\n",
       "      <th>소통내용_리더_팔로워</th>\n",
       "      <th>칭찬_인정</th>\n",
       "      <th>위로_공감</th>\n",
       "      <th>격려</th>\n",
       "      <th>태도코칭</th>\n",
       "      <th>전략코칭</th>\n",
       "      <th>업무지시</th>\n",
       "    </tr>\n",
       "  </thead>\n",
       "  <tbody>\n",
       "    <tr>\n",
       "      <th>6443</th>\n",
       "      <td>다 같이 설명회를 한번 하도록 합시다!!.^^.</td>\n",
       "      <td>0</td>\n",
       "      <td>0</td>\n",
       "      <td>0</td>\n",
       "      <td>0</td>\n",
       "      <td>0</td>\n",
       "      <td>3</td>\n",
       "    </tr>\n",
       "    <tr>\n",
       "      <th>6488</th>\n",
       "      <td>네, 잘 부탁합니다.</td>\n",
       "      <td>0</td>\n",
       "      <td>0</td>\n",
       "      <td>2</td>\n",
       "      <td>0</td>\n",
       "      <td>0</td>\n",
       "      <td>0</td>\n",
       "    </tr>\n",
       "    <tr>\n",
       "      <th>6489</th>\n",
       "      <td>네, 잘 알겠습니다.</td>\n",
       "      <td>0</td>\n",
       "      <td>0</td>\n",
       "      <td>0</td>\n",
       "      <td>0</td>\n",
       "      <td>0</td>\n",
       "      <td>0</td>\n",
       "    </tr>\n",
       "    <tr>\n",
       "      <th>6490</th>\n",
       "      <td>ㅇㅋ, 잘 다녀 오세요.^^.</td>\n",
       "      <td>0</td>\n",
       "      <td>0</td>\n",
       "      <td>1</td>\n",
       "      <td>0</td>\n",
       "      <td>0</td>\n",
       "      <td>0</td>\n",
       "    </tr>\n",
       "    <tr>\n",
       "      <th>6513</th>\n",
       "      <td>선임리더 작성내용은 개인 적으로 아직 시스템이 완전히 구축되지 않아서 히든처리 하기...</td>\n",
       "      <td>0</td>\n",
       "      <td>0</td>\n",
       "      <td>0</td>\n",
       "      <td>0</td>\n",
       "      <td>2</td>\n",
       "      <td>1</td>\n",
       "    </tr>\n",
       "    <tr>\n",
       "      <th>...</th>\n",
       "      <td>...</td>\n",
       "      <td>...</td>\n",
       "      <td>...</td>\n",
       "      <td>...</td>\n",
       "      <td>...</td>\n",
       "      <td>...</td>\n",
       "      <td>...</td>\n",
       "    </tr>\n",
       "    <tr>\n",
       "      <th>28846</th>\n",
       "      <td>아무래도 지형 모델은 조금 미뤄야 할거 같네요!!\\r\\r\\n우리 수량 산출하는게 꼭...</td>\n",
       "      <td>0</td>\n",
       "      <td>0</td>\n",
       "      <td>1</td>\n",
       "      <td>0</td>\n",
       "      <td>0</td>\n",
       "      <td>1</td>\n",
       "    </tr>\n",
       "    <tr>\n",
       "      <th>28847</th>\n",
       "      <td>대왕판교 IC 전환빔 설계가 앞으로의 설계사 빔 전환에 중요한 성과물이 되도록 해봅시다</td>\n",
       "      <td>0</td>\n",
       "      <td>0</td>\n",
       "      <td>0</td>\n",
       "      <td>0</td>\n",
       "      <td>0</td>\n",
       "      <td>1</td>\n",
       "    </tr>\n",
       "    <tr>\n",
       "      <th>28849</th>\n",
       "      <td>너무 화내진 마시구요^^</td>\n",
       "      <td>0</td>\n",
       "      <td>0</td>\n",
       "      <td>0</td>\n",
       "      <td>0</td>\n",
       "      <td>0</td>\n",
       "      <td>0</td>\n",
       "    </tr>\n",
       "    <tr>\n",
       "      <th>28851</th>\n",
       "      <td>하나하나 잡아야 겠네요</td>\n",
       "      <td>0</td>\n",
       "      <td>0</td>\n",
       "      <td>0</td>\n",
       "      <td>0</td>\n",
       "      <td>2</td>\n",
       "      <td>0</td>\n",
       "    </tr>\n",
       "    <tr>\n",
       "      <th>28853</th>\n",
       "      <td>버그를 찾는게 정길님의 실적입니다 ㅠㅠ</td>\n",
       "      <td>0</td>\n",
       "      <td>0</td>\n",
       "      <td>0</td>\n",
       "      <td>0</td>\n",
       "      <td>2</td>\n",
       "      <td>0</td>\n",
       "    </tr>\n",
       "  </tbody>\n",
       "</table>\n",
       "<p>5825 rows × 7 columns</p>\n",
       "</div>"
      ],
      "text/plain": [
       "                                             소통내용_리더_팔로워  칭찬_인정  위로_공감  격려  \\\n",
       "6443                          다 같이 설명회를 한번 하도록 합시다!!.^^.      0      0   0   \n",
       "6488                                         네, 잘 부탁합니다.      0      0   2   \n",
       "6489                                         네, 잘 알겠습니다.      0      0   0   \n",
       "6490                                    ㅇㅋ, 잘 다녀 오세요.^^.      0      0   1   \n",
       "6513   선임리더 작성내용은 개인 적으로 아직 시스템이 완전히 구축되지 않아서 히든처리 하기...      0      0   0   \n",
       "...                                                  ...    ...    ...  ..   \n",
       "28846  아무래도 지형 모델은 조금 미뤄야 할거 같네요!!\\r\\r\\n우리 수량 산출하는게 꼭...      0      0   1   \n",
       "28847   대왕판교 IC 전환빔 설계가 앞으로의 설계사 빔 전환에 중요한 성과물이 되도록 해봅시다      0      0   0   \n",
       "28849                                      너무 화내진 마시구요^^      0      0   0   \n",
       "28851                                       하나하나 잡아야 겠네요      0      0   0   \n",
       "28853                              버그를 찾는게 정길님의 실적입니다 ㅠㅠ      0      0   0   \n",
       "\n",
       "       태도코칭  전략코칭  업무지시  \n",
       "6443      0     0     3  \n",
       "6488      0     0     0  \n",
       "6489      0     0     0  \n",
       "6490      0     0     0  \n",
       "6513      0     2     1  \n",
       "...     ...   ...   ...  \n",
       "28846     0     0     1  \n",
       "28847     0     0     1  \n",
       "28849     0     0     0  \n",
       "28851     0     2     0  \n",
       "28853     0     2     0  \n",
       "\n",
       "[5825 rows x 7 columns]"
      ]
     },
     "execution_count": 475,
     "metadata": {},
     "output_type": "execute_result"
    }
   ],
   "source": [
    "pred = predict_model(data,word)\n",
    "pred"
   ]
  },
  {
   "cell_type": "code",
   "execution_count": 478,
   "id": "71623499",
   "metadata": {},
   "outputs": [
    {
     "data": {
      "text/html": [
       "<div>\n",
       "<style scoped>\n",
       "    .dataframe tbody tr th:only-of-type {\n",
       "        vertical-align: middle;\n",
       "    }\n",
       "\n",
       "    .dataframe tbody tr th {\n",
       "        vertical-align: top;\n",
       "    }\n",
       "\n",
       "    .dataframe thead th {\n",
       "        text-align: right;\n",
       "    }\n",
       "</style>\n",
       "<table border=\"1\" class=\"dataframe\">\n",
       "  <thead>\n",
       "    <tr style=\"text-align: right;\">\n",
       "      <th></th>\n",
       "      <th>소통내용_리더_팔로워</th>\n",
       "      <th>칭찬_인정</th>\n",
       "      <th>위로_공감</th>\n",
       "      <th>격려</th>\n",
       "      <th>태도코칭</th>\n",
       "      <th>전략코칭</th>\n",
       "      <th>업무지시</th>\n",
       "    </tr>\n",
       "  </thead>\n",
       "  <tbody>\n",
       "    <tr>\n",
       "      <th>0</th>\n",
       "      <td>다 같이 설명회를 한번 하도록 합시다!!.^^.</td>\n",
       "      <td>0</td>\n",
       "      <td>0</td>\n",
       "      <td>0</td>\n",
       "      <td>0</td>\n",
       "      <td>0</td>\n",
       "      <td>3</td>\n",
       "    </tr>\n",
       "    <tr>\n",
       "      <th>1</th>\n",
       "      <td>네, 잘 부탁합니다.</td>\n",
       "      <td>0</td>\n",
       "      <td>0</td>\n",
       "      <td>2</td>\n",
       "      <td>0</td>\n",
       "      <td>0</td>\n",
       "      <td>0</td>\n",
       "    </tr>\n",
       "    <tr>\n",
       "      <th>2</th>\n",
       "      <td>네, 잘 알겠습니다.</td>\n",
       "      <td>0</td>\n",
       "      <td>0</td>\n",
       "      <td>0</td>\n",
       "      <td>0</td>\n",
       "      <td>0</td>\n",
       "      <td>0</td>\n",
       "    </tr>\n",
       "    <tr>\n",
       "      <th>3</th>\n",
       "      <td>ㅇㅋ, 잘 다녀 오세요.^^.</td>\n",
       "      <td>0</td>\n",
       "      <td>0</td>\n",
       "      <td>1</td>\n",
       "      <td>0</td>\n",
       "      <td>0</td>\n",
       "      <td>0</td>\n",
       "    </tr>\n",
       "    <tr>\n",
       "      <th>4</th>\n",
       "      <td>선임리더 작성내용은 개인 적으로 아직 시스템이 완전히 구축되지 않아서 히든처리 하기...</td>\n",
       "      <td>0</td>\n",
       "      <td>0</td>\n",
       "      <td>0</td>\n",
       "      <td>0</td>\n",
       "      <td>2</td>\n",
       "      <td>1</td>\n",
       "    </tr>\n",
       "    <tr>\n",
       "      <th>...</th>\n",
       "      <td>...</td>\n",
       "      <td>...</td>\n",
       "      <td>...</td>\n",
       "      <td>...</td>\n",
       "      <td>...</td>\n",
       "      <td>...</td>\n",
       "      <td>...</td>\n",
       "    </tr>\n",
       "    <tr>\n",
       "      <th>5820</th>\n",
       "      <td>아무래도 지형 모델은 조금 미뤄야 할거 같네요!!\\r\\r\\n우리 수량 산출하는게 꼭...</td>\n",
       "      <td>0</td>\n",
       "      <td>0</td>\n",
       "      <td>1</td>\n",
       "      <td>0</td>\n",
       "      <td>0</td>\n",
       "      <td>1</td>\n",
       "    </tr>\n",
       "    <tr>\n",
       "      <th>5821</th>\n",
       "      <td>대왕판교 IC 전환빔 설계가 앞으로의 설계사 빔 전환에 중요한 성과물이 되도록 해봅시다</td>\n",
       "      <td>0</td>\n",
       "      <td>0</td>\n",
       "      <td>0</td>\n",
       "      <td>0</td>\n",
       "      <td>0</td>\n",
       "      <td>1</td>\n",
       "    </tr>\n",
       "    <tr>\n",
       "      <th>5822</th>\n",
       "      <td>너무 화내진 마시구요^^</td>\n",
       "      <td>0</td>\n",
       "      <td>0</td>\n",
       "      <td>0</td>\n",
       "      <td>0</td>\n",
       "      <td>0</td>\n",
       "      <td>0</td>\n",
       "    </tr>\n",
       "    <tr>\n",
       "      <th>5823</th>\n",
       "      <td>하나하나 잡아야 겠네요</td>\n",
       "      <td>0</td>\n",
       "      <td>0</td>\n",
       "      <td>0</td>\n",
       "      <td>0</td>\n",
       "      <td>2</td>\n",
       "      <td>0</td>\n",
       "    </tr>\n",
       "    <tr>\n",
       "      <th>5824</th>\n",
       "      <td>버그를 찾는게 정길님의 실적입니다 ㅠㅠ</td>\n",
       "      <td>0</td>\n",
       "      <td>0</td>\n",
       "      <td>0</td>\n",
       "      <td>0</td>\n",
       "      <td>2</td>\n",
       "      <td>0</td>\n",
       "    </tr>\n",
       "  </tbody>\n",
       "</table>\n",
       "<p>5825 rows × 7 columns</p>\n",
       "</div>"
      ],
      "text/plain": [
       "                                            소통내용_리더_팔로워  칭찬_인정  위로_공감  격려  \\\n",
       "0                            다 같이 설명회를 한번 하도록 합시다!!.^^.      0      0   0   \n",
       "1                                           네, 잘 부탁합니다.      0      0   2   \n",
       "2                                           네, 잘 알겠습니다.      0      0   0   \n",
       "3                                      ㅇㅋ, 잘 다녀 오세요.^^.      0      0   1   \n",
       "4     선임리더 작성내용은 개인 적으로 아직 시스템이 완전히 구축되지 않아서 히든처리 하기...      0      0   0   \n",
       "...                                                 ...    ...    ...  ..   \n",
       "5820  아무래도 지형 모델은 조금 미뤄야 할거 같네요!!\\r\\r\\n우리 수량 산출하는게 꼭...      0      0   1   \n",
       "5821   대왕판교 IC 전환빔 설계가 앞으로의 설계사 빔 전환에 중요한 성과물이 되도록 해봅시다      0      0   0   \n",
       "5822                                      너무 화내진 마시구요^^      0      0   0   \n",
       "5823                                       하나하나 잡아야 겠네요      0      0   0   \n",
       "5824                              버그를 찾는게 정길님의 실적입니다 ㅠㅠ      0      0   0   \n",
       "\n",
       "      태도코칭  전략코칭  업무지시  \n",
       "0        0     0     3  \n",
       "1        0     0     0  \n",
       "2        0     0     0  \n",
       "3        0     0     0  \n",
       "4        0     2     1  \n",
       "...    ...   ...   ...  \n",
       "5820     0     0     1  \n",
       "5821     0     0     1  \n",
       "5822     0     0     0  \n",
       "5823     0     2     0  \n",
       "5824     0     2     0  \n",
       "\n",
       "[5825 rows x 7 columns]"
      ]
     },
     "execution_count": 478,
     "metadata": {},
     "output_type": "execute_result"
    }
   ],
   "source": [
    "pred = pred[pred['소통내용_리더_팔로워'] != '-']\n",
    "pred.reset_index(drop=True,inplace=True)\n",
    "pred"
   ]
  },
  {
   "cell_type": "code",
   "execution_count": 479,
   "id": "f518ff87-309b-42fe-91e5-ad890172fe10",
   "metadata": {},
   "outputs": [],
   "source": [
    "pred.to_excel(\"C:/Users/midashrm/Documents/PythonWork/Sentiment_Analysis/성장전략서_2q_pred.xlsx\", encoding='euc-kr',index=False)"
   ]
  }
 ],
 "metadata": {
  "kernelspec": {
   "display_name": "Python 3",
   "language": "python",
   "name": "python3"
  },
  "language_info": {
   "codemirror_mode": {
    "name": "ipython",
    "version": 3
   },
   "file_extension": ".py",
   "mimetype": "text/x-python",
   "name": "python",
   "nbconvert_exporter": "python",
   "pygments_lexer": "ipython3",
   "version": "3.8.8"
  }
 },
 "nbformat": 4,
 "nbformat_minor": 5
}
